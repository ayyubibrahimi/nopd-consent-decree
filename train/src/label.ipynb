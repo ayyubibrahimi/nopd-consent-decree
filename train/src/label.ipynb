{
 "cells": [
  {
   "cell_type": "code",
   "execution_count": 3,
   "metadata": {},
   "outputs": [],
   "source": [
    "import os\n",
    "import pandas as pd\n",
    "from sklearn.model_selection import train_test_split\n",
    "from tensorflow.keras.preprocessing.text import Tokenizer\n",
    "from tensorflow.keras.preprocessing.sequence import pad_sequences\n",
    "import numpy as np\n",
    "import tensorflow as tf\n",
    "from tensorflow.keras.models import Sequential\n",
    "from tensorflow.keras.layers import Embedding, Dense, LSTM, GlobalMaxPooling1D\n",
    "from sklearn.metrics import classification_report\n",
    "import pickle"
   ]
  },
  {
   "cell_type": "code",
   "execution_count": 4,
   "metadata": {},
   "outputs": [
    {
     "name": "stdout",
     "output_type": "stream",
     "text": [
      "Epoch 1/10\n",
      "15/15 [==============================] - 0s 6ms/step - loss: 0.6919 - accuracy: 0.5083 - val_loss: 0.6915 - val_accuracy: 0.4667\n",
      "Epoch 2/10\n",
      "15/15 [==============================] - 0s 1ms/step - loss: 0.6829 - accuracy: 0.6583 - val_loss: 0.6875 - val_accuracy: 0.5333\n",
      "Epoch 3/10\n",
      "15/15 [==============================] - 0s 1ms/step - loss: 0.6739 - accuracy: 0.9750 - val_loss: 0.6820 - val_accuracy: 0.8333\n",
      "Epoch 4/10\n",
      "15/15 [==============================] - 0s 1ms/step - loss: 0.6598 - accuracy: 0.9750 - val_loss: 0.6745 - val_accuracy: 0.7667\n",
      "Epoch 5/10\n",
      "15/15 [==============================] - 0s 1ms/step - loss: 0.6408 - accuracy: 0.9500 - val_loss: 0.6607 - val_accuracy: 0.6667\n",
      "Epoch 6/10\n",
      "15/15 [==============================] - 0s 2ms/step - loss: 0.6121 - accuracy: 0.9667 - val_loss: 0.6397 - val_accuracy: 0.6667\n",
      "Epoch 7/10\n",
      "15/15 [==============================] - 0s 2ms/step - loss: 0.5730 - accuracy: 0.9750 - val_loss: 0.6078 - val_accuracy: 0.7333\n",
      "Epoch 8/10\n",
      "15/15 [==============================] - 0s 1ms/step - loss: 0.5174 - accuracy: 0.9917 - val_loss: 0.5626 - val_accuracy: 0.8667\n",
      "Epoch 9/10\n",
      "15/15 [==============================] - 0s 1ms/step - loss: 0.4559 - accuracy: 1.0000 - val_loss: 0.5145 - val_accuracy: 0.9333\n",
      "Epoch 10/10\n",
      "15/15 [==============================] - 0s 1ms/step - loss: 0.3903 - accuracy: 1.0000 - val_loss: 0.4606 - val_accuracy: 0.9667\n",
      "5/5 [==============================] - 0s 570us/step - loss: 0.4642 - accuracy: 0.9200\n",
      "Test Accuracy: 0.9200\n",
      "5/5 [==============================] - 0s 525us/step\n",
      "              precision    recall  f1-score   support\n",
      "\n",
      "           0       0.97      0.86      0.91        72\n",
      "           1       0.88      0.97      0.93        78\n",
      "\n",
      "    accuracy                           0.92       150\n",
      "   macro avg       0.93      0.92      0.92       150\n",
      "weighted avg       0.92      0.92      0.92       150\n",
      "\n"
     ]
    }
   ],
   "source": [
    "def read_tbl():\n",
    "    df = pd.read_csv(\"../../label/data/output/labeled_data.csv\")\n",
    "    return df \n",
    "\n",
    "df = read_tbl()\n",
    "\n",
    "# preprocess the data\n",
    "texts = df['gist'].astype(str).tolist()\n",
    "labels = df['label'].astype(int).tolist()\n",
    "\n",
    "tokenizer = Tokenizer(num_words=5000)\n",
    "tokenizer.fit_on_texts(texts)\n",
    "sequences = tokenizer.texts_to_sequences(texts)\n",
    "word_index = tokenizer.word_index\n",
    "\n",
    "maxlen = 100\n",
    "data = pad_sequences(sequences, maxlen=maxlen)\n",
    "\n",
    "labels = np.array(labels)\n",
    "\n",
    "X_train, X_test, y_train, y_test = train_test_split(data, labels, test_size=0.5, random_state=42)\n",
    "\n",
    "# Define the neural network\n",
    "model = Sequential()\n",
    "model.add(Embedding(input_dim=len(word_index) + 1, output_dim=50, input_length=maxlen))\n",
    "model.add(GlobalMaxPooling1D())\n",
    "model.add(Dense(10, activation='relu'))\n",
    "model.add(Dense(1, activation='sigmoid'))\n",
    "\n",
    "model.compile(optimizer='adam', loss='binary_crossentropy', metrics=['accuracy'])\n",
    "\n",
    "# Train the model\n",
    "history = model.fit(X_train, y_train, epochs=10, batch_size=8, validation_split=0.2, verbose=1)\n",
    "\n",
    "loss, accuracy = model.evaluate(X_test, y_test, verbose=1)\n",
    "print(f'Test Accuracy: {accuracy:.4f}')\n",
    "\n",
    "y_pred = model.predict(X_test)\n",
    "y_pred_classes = (y_pred > 0.5).astype(\"int32\")\n",
    "\n",
    "print(classification_report(y_test, y_pred_classes))"
   ]
  },
  {
   "cell_type": "code",
   "execution_count": 5,
   "metadata": {},
   "outputs": [
    {
     "name": "stderr",
     "output_type": "stream",
     "text": [
      "/opt/homebrew/lib/python3.11/site-packages/keras/src/engine/training.py:3103: UserWarning: You are saving your model as an HDF5 file via `model.save()`. This file format is considered legacy. We recommend using instead the native Keras format, e.g. `model.save('my_model.keras')`.\n",
      "  saving_api.save_model(\n"
     ]
    }
   ],
   "source": [
    "model.save('../data/output/gist_classification_model.h5')\n",
    "\n",
    "with open('../data/output/tokenizer.pkl', 'wb') as handle:\n",
    "    pickle.dump(tokenizer, handle, protocol=pickle.HIGHEST_PROTOCOL)"
   ]
  }
 ],
 "metadata": {
  "kernelspec": {
   "display_name": "Python 3",
   "language": "python",
   "name": "python3"
  },
  "language_info": {
   "codemirror_mode": {
    "name": "ipython",
    "version": 3
   },
   "file_extension": ".py",
   "mimetype": "text/x-python",
   "name": "python",
   "nbconvert_exporter": "python",
   "pygments_lexer": "ipython3",
   "version": "3.11.7"
  }
 },
 "nbformat": 4,
 "nbformat_minor": 2
}
