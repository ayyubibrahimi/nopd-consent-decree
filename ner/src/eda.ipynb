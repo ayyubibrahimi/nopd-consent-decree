{
 "cells": [
  {
   "cell_type": "code",
   "execution_count": 105,
   "metadata": {},
   "outputs": [],
   "source": [
    "import pandas as pd"
   ]
  },
  {
   "cell_type": "code",
   "execution_count": 106,
   "metadata": {},
   "outputs": [
    {
     "name": "stderr",
     "output_type": "stream",
     "text": [
      "/var/folders/4r/jhc99db14v58mjmncgtry0kc0000gn/T/ipykernel_23687/3047770412.py:13: SettingWithCopyWarning: \n",
      "A value is trying to be set on a copy of a slice from a DataFrame.\n",
      "Try using .loc[row_indexer,col_indexer] = value instead\n",
      "\n",
      "See the caveats in the documentation: https://pandas.pydata.org/pandas-docs/stable/user_guide/indexing.html#returning-a-view-versus-a-copy\n",
      "  df['tracking_id'] = df['tracking_id'].astype(int)\n"
     ]
    },
    {
     "data": {
      "text/plain": [
       "{21, 310, 330, 397, 479, 489, 683, 699}"
      ]
     },
     "execution_count": 106,
     "metadata": {},
     "output_type": "execute_result"
    }
   ],
   "source": [
    "df = pd.read_csv(\"../data/output/PIB Gists 2023 - COMSTAT 2023 Redacted - Req 24-1222 - Rec 19 Mar 2024.csv\")\n",
    "\n",
    "\n",
    "def clean_tracking_id(df):\n",
    "    df['tracking_id'] = df['tracking_id'].str.replace(r'^\\d{4}[-.\\s]*(\\d+).*$', r'\\1', regex=True)\n",
    "    return df\n",
    "\n",
    "def find_missing_tracking_ids(df):\n",
    "    df = clean_tracking_id(df)\n",
    "    \n",
    "    df = df[pd.to_numeric(df['tracking_id'], errors='coerce').notna()]\n",
    "    \n",
    "    df['tracking_id'] = df['tracking_id'].astype(int)\n",
    "\n",
    "    min_id = df['tracking_id'].min()\n",
    "    max_id = df['tracking_id'].max()\n",
    "    \n",
    "    expected_ids = set(range(min_id, max_id + 1))\n",
    "    \n",
    "    actual_ids = set(df['tracking_id'])\n",
    "    \n",
    "    missing_ids = expected_ids - actual_ids\n",
    "    \n",
    "    return missing_ids\n",
    "\n",
    "missing_tracking_ids = find_missing_tracking_ids(df)\n",
    "\n",
    "missing_tracking_ids"
   ]
  }
 ],
 "metadata": {
  "kernelspec": {
   "display_name": "Python 3",
   "language": "python",
   "name": "python3"
  },
  "language_info": {
   "codemirror_mode": {
    "name": "ipython",
    "version": 3
   },
   "file_extension": ".py",
   "mimetype": "text/x-python",
   "name": "python",
   "nbconvert_exporter": "python",
   "pygments_lexer": "ipython3",
   "version": "3.11.7"
  }
 },
 "nbformat": 4,
 "nbformat_minor": 2
}
