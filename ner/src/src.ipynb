{
 "cells": [
  {
   "cell_type": "code",
   "execution_count": 15,
   "metadata": {},
   "outputs": [],
   "source": [
    "import pandas as pd\n",
    "import re\n"
   ]
  },
  {
   "cell_type": "code",
   "execution_count": 16,
   "metadata": {},
   "outputs": [],
   "source": [
    "def read_tbl():\n",
    "    with open(\"../../ocr/data/output/PIB Gist 2015 - COMSTAT 2015 Redacted - Req23-1092 - Rec 4 Dec 2023.txt\", \"r\") as file:\n",
    "        content = file.read()\n",
    "\n",
    "    incidents = re.split(r\"(\\n\\d+\\. )\", content)[1:]  # Split the content into individual incidents\n",
    "\n",
    "    # Combine the number prefix and incident text\n",
    "    incidents = [prefix + incident for prefix, incident in zip(incidents[0::2], incidents[1::2])]\n",
    "\n",
    "    df = pd.DataFrame({\"incident\": incidents})\n",
    "    df[\"incident\"] = df[\"incident\"].str.strip()  # Remove leading/trailing whitespace from each incident\n",
    "\n",
    "    return df\n",
    "\n",
    "def extract_tracking_id(incident):\n",
    "    match = re.search(r\"\\d{4} ?- ?\\d{4}[A-Z]\", incident)\n",
    "    if match:\n",
    "        return match.group()\n",
    "    else:\n",
    "        match = re.search(r\"\\d{4} ?- ?\\d{4}\", incident)\n",
    "        return match.group() if match else None\n",
    "\n",
    "def extract_gist(incident):\n",
    "    match = re.search(r\"(?i)Gist:(.+?)(?=\\n\\d+\\.|$)\", incident, re.DOTALL)\n",
    "    return match.group(1).strip() if match else None\n",
    "\n",
    "df = read_tbl()\n",
    "df[\"tracking_id\"] = df[\"incident\"].apply(extract_tracking_id)\n",
    "df[\"gist\"] = df[\"incident\"].apply(extract_gist)\n",
    "df.to_csv(\"../data/output/gist.csv\", index=False)"
   ]
  }
 ],
 "metadata": {
  "kernelspec": {
   "display_name": "Python 3",
   "language": "python",
   "name": "python3"
  },
  "language_info": {
   "codemirror_mode": {
    "name": "ipython",
    "version": 3
   },
   "file_extension": ".py",
   "mimetype": "text/x-python",
   "name": "python",
   "nbconvert_exporter": "python",
   "pygments_lexer": "ipython3",
   "version": "3.11.7"
  }
 },
 "nbformat": 4,
 "nbformat_minor": 2
}
