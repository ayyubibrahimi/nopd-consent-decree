{
 "cells": [
  {
   "cell_type": "code",
   "execution_count": 103,
   "metadata": {},
   "outputs": [],
   "source": [
    "import matplotlib.pyplot as plt\n",
    "import seaborn as sns\n",
    "import pandas as pd\n",
    "import plotly.express as px\n",
    "\n",
    "from helper import clean_column_names"
   ]
  },
  {
   "cell_type": "code",
   "execution_count": 104,
   "metadata": {},
   "outputs": [
    {
     "data": {
      "text/plain": [
       "array([\"'Paragraph C: Subparagraph 8 Failing to thoroughly search for, collect, preserve, and identify evidence in an arrest or investigative situation.\"],\n",
       "      dtype=object)"
      ]
     },
     "execution_count": 104,
     "metadata": {},
     "output_type": "execute_result"
    }
   ],
   "source": [
    "dfa = pd.read_csv(\"../data/input/brady_2016_2023.csv\")\n",
    "\n",
    "\n",
    "def clean_table(df):\n",
    "    df.loc[:, \"last_name\"] = df.last_name.str.replace(r\"\\'RULE(.+)\", \"\", regex=True).str.replace(r\"^\\'$\", \"\", regex=True)\n",
    "\n",
    "    df = df[~((df.last_name.fillna(\"\") == \"\"))]\n",
    "\n",
    "    df.loc[:, \"tracking_id\"] = df.tracking_id.str.replace(r\"^\\'\", \"\", regex=True)\n",
    "\n",
    "    df = df.sort_values(\"tracking_id\", ascending=False)\n",
    "\n",
    "    df.loc[:, \"allegation\"] = df.allegation_rule.str.cat(df.allegation_paragraph, sep=\" \")\n",
    "\n",
    "    df.loc[:, \"allegation\"] = df.allegation.str.lower().str.strip().str.replace(r\"\\'\", \"\", regex=True)\n",
    "\n",
    "    df = df.drop(columns=[\"allegation_rule\", \"allegation_paragraph\"])\n",
    "\n",
    "    df.loc[:, \"allegation_desc\"] = (df.allegation_desc\n",
    "                                    .str.replace(r\"\\'$\", \"\", regex=True)\n",
    "                                    .str.replace(r\"^$\", \"missing\", regex=True)\n",
    "    )\n",
    "\n",
    "    return df \n",
    "\n",
    "dfa = dfa.pipe(clean_table)\n",
    "\n",
    "dfa.loc[:, \"tracking_id\"] = dfa.tracking_id.str.lower().str.strip().str.replace(r\"\\s+\", \"\", regex=True).str.replace(r\"\\'\", \"\", regex=True)\n",
    "\n",
    "dfa\n",
    "\n",
    "doubles = dfa[dfa.tracking_id.str.contains(\"2016-0449\")]\n",
    "\n",
    "doubles.allegation_desc.unique()"
   ]
  },
  {
   "cell_type": "code",
   "execution_count": 105,
   "metadata": {},
   "outputs": [
    {
     "name": "stdout",
     "output_type": "stream",
     "text": [
      "Number of missing tracking IDs: 10\n",
      "Missing tracking IDs: ['2014-0524', '2014-0528', '2015-0228', '2015-0002', '2014-0073', '2014-0468', '2015-0674', '2014-0741', '2014-0052', '2014-0056']\n"
     ]
    }
   ],
   "source": [
    "\n",
    "collected_reports = [\n",
    "'2016-0505',\n",
    " '2019-0344',\n",
    " '2014-0524',\n",
    " '2016-0504',\n",
    " '2016-0506',\n",
    " '2020-0269',\n",
    " '2019-0730',\n",
    " '2019-0547',\n",
    " '2019-0530',\n",
    " '2016-0076',\n",
    " '2016-0177',\n",
    " '2019-0741',\n",
    " '2014-0528',\n",
    " '2019-0732',\n",
    " '2015-0228',\n",
    " '2016-0157',\n",
    " '2015-0002',\n",
    " '2014-0073',\n",
    " '2014-0468',\n",
    " '2019-0359',\n",
    " '2015-0674',\n",
    " '2016-0126',\n",
    " '2017-0631',\n",
    " '2017-0393',\n",
    " '2017-0321',\n",
    " '2016-0075',\n",
    " '2016-0708',\n",
    " '2018-0476',\n",
    " '2018-0369',\n",
    " '2019-0014',\n",
    " '2014-0741',\n",
    " '2017-0442',\n",
    " '2018-0508',\n",
    " '2018-0651',\n",
    " '2018-0435',\n",
    " '2016-0368',\n",
    " '2019-0190',\n",
    " '2017-0549',\n",
    " '2017-0529',\n",
    " '2017-0262',\n",
    " '2016-0201',\n",
    " '2018-0651',\n",
    " '2019-0533',\n",
    " '2020-0135',\n",
    " '2017-0315',\n",
    " '2019-0314',\n",
    " '2019-0123',\n",
    " '2017-0646',\n",
    " '2020-0274',\n",
    " '2020-0260',\n",
    " '2017-0486',\n",
    " '2016-0085',\n",
    " '2019-0549',\n",
    " '2020-0007',\n",
    " '2020-0358',\n",
    " '2016-0506',\n",
    " '2014-0052',\n",
    " '2018-0041',\n",
    " '2018-0561',\n",
    " '2017-0248',\n",
    " '2014-0056',\n",
    " '2017-0688',\n",
    " '2018-0054',\n",
    " '2017-0350',\n",
    " '2020-0417',\n",
    " '2020-0520',\n",
    " '2017-0700',\n",
    " '2018-0442',\n",
    " '2016-0633',\n",
    " '2017-0720'\n",
    " ]\n",
    "\n",
    "\n",
    "pattern = '|'.join(collected_reports)\n",
    "reports_df = dfa[dfa['tracking_id'].str.contains(pattern)]\n",
    "\n",
    "# Count of tracking IDs not found in the DataFrame\n",
    "missing_count = sum(dfa['tracking_id'].str.contains(tracking_id).any() for tracking_id in collected_reports)\n",
    "\n",
    "# Calculate how many are missing\n",
    "missing_tracking_ids = len(collected_reports) - missing_count\n",
    "\n",
    "print(\"Number of missing tracking IDs:\", missing_tracking_ids)\n",
    "\n",
    "# List to hold missing tracking IDs\n",
    "missing_tracking_ids = []\n",
    "\n",
    "for tracking_id in collected_reports:\n",
    "    if not dfa['tracking_id'].str.contains(tracking_id).any():\n",
    "        missing_tracking_ids.append(tracking_id)\n",
    "\n",
    "print(\"Missing tracking IDs:\", missing_tracking_ids)"
   ]
  },
  {
   "cell_type": "code",
   "execution_count": 106,
   "metadata": {},
   "outputs": [
    {
     "data": {
      "text/html": [
       "<div>\n",
       "<style scoped>\n",
       "    .dataframe tbody tr th:only-of-type {\n",
       "        vertical-align: middle;\n",
       "    }\n",
       "\n",
       "    .dataframe tbody tr th {\n",
       "        vertical-align: top;\n",
       "    }\n",
       "\n",
       "    .dataframe thead th {\n",
       "        text-align: right;\n",
       "    }\n",
       "</style>\n",
       "<table border=\"1\" class=\"dataframe\">\n",
       "  <thead>\n",
       "    <tr style=\"text-align: right;\">\n",
       "      <th></th>\n",
       "      <th>tracking_id</th>\n",
       "      <th>Date Complaint Occurred</th>\n",
       "      <th>Date Complaint Received by NOPD (PIB)</th>\n",
       "      <th>Date Complaint Investigation Complete</th>\n",
       "      <th>Complaint classification</th>\n",
       "      <th>Bureau of Complainant</th>\n",
       "      <th>Division of Complainant</th>\n",
       "      <th>Unit of Complainant</th>\n",
       "      <th>Unit Additional Details of Complainant</th>\n",
       "      <th>Working Status of Complainant</th>\n",
       "      <th>...</th>\n",
       "      <th>Paragraph Violation</th>\n",
       "      <th>Unique Officer Allegation ID</th>\n",
       "      <th>Officer Race Ethnicity</th>\n",
       "      <th>Officer Gender</th>\n",
       "      <th>Officer Age</th>\n",
       "      <th>Officer years of service</th>\n",
       "      <th>Complainant Gender</th>\n",
       "      <th>Complainant Ethnicity</th>\n",
       "      <th>Complainant Age</th>\n",
       "      <th>Disposition</th>\n",
       "    </tr>\n",
       "  </thead>\n",
       "  <tbody>\n",
       "    <tr>\n",
       "      <th>853</th>\n",
       "      <td>2016-0629-p</td>\n",
       "      <td>NaN</td>\n",
       "      <td>2016-09-26</td>\n",
       "      <td>NaN</td>\n",
       "      <td>DI-1</td>\n",
       "      <td>FOB - Field Operations Bureau</td>\n",
       "      <td>Unknown District/Division</td>\n",
       "      <td>Bourbon Promenade</td>\n",
       "      <td>Unknown Assignment</td>\n",
       "      <td>Unknown Working Status</td>\n",
       "      <td>...</td>\n",
       "      <td>PARAGRAPH 02 - FALSE OR INACCURATE REPORTS</td>\n",
       "      <td>35869.0</td>\n",
       "      <td>Black</td>\n",
       "      <td>Male</td>\n",
       "      <td>NaN</td>\n",
       "      <td>NaN</td>\n",
       "      <td>Male</td>\n",
       "      <td>Black</td>\n",
       "      <td>NaN</td>\n",
       "      <td>Pending</td>\n",
       "    </tr>\n",
       "  </tbody>\n",
       "</table>\n",
       "<p>1 rows × 22 columns</p>\n",
       "</div>"
      ],
      "text/plain": [
       "     tracking_id Date Complaint Occurred  \\\n",
       "853  2016-0629-p                     NaN   \n",
       "\n",
       "    Date Complaint Received by NOPD (PIB)  \\\n",
       "853                            2016-09-26   \n",
       "\n",
       "    Date Complaint Investigation Complete Complaint classification  \\\n",
       "853                                   NaN                     DI-1   \n",
       "\n",
       "             Bureau of Complainant    Division of Complainant  \\\n",
       "853  FOB - Field Operations Bureau  Unknown District/Division   \n",
       "\n",
       "    Unit of Complainant Unit Additional Details of Complainant  \\\n",
       "853   Bourbon Promenade                     Unknown Assignment   \n",
       "\n",
       "    Working Status of Complainant  ...  \\\n",
       "853        Unknown Working Status  ...   \n",
       "\n",
       "                            Paragraph Violation Unique Officer Allegation ID  \\\n",
       "853  PARAGRAPH 02 - FALSE OR INACCURATE REPORTS                      35869.0   \n",
       "\n",
       "    Officer Race Ethnicity  Officer Gender Officer Age  \\\n",
       "853                  Black            Male         NaN   \n",
       "\n",
       "    Officer years of service Complainant Gender  Complainant Ethnicity  \\\n",
       "853                      NaN               Male                  Black   \n",
       "\n",
       "    Complainant Age Disposition  \n",
       "853             NaN     Pending  \n",
       "\n",
       "[1 rows x 22 columns]"
      ]
     },
     "execution_count": 106,
     "metadata": {},
     "output_type": "execute_result"
    }
   ],
   "source": [
    "dfb = pd.read_csv(\"../data/input/data_nola_gov.csv\")\n",
    "\n",
    "dfb = dfb.rename(columns={\"Complaint Tracking Number\": \"tracking_id\"})\n",
    "\n",
    "dfb = dfb[['tracking_id' ,'Date Complaint Occurred',\n",
    "       'Date Complaint Received by NOPD (PIB)',\n",
    "       'Date Complaint Investigation Complete', 'Complaint classification', 'Bureau of Complainant',\n",
    "       'Division of Complainant', 'Unit of Complainant',\n",
    "       'Unit Additional Details of Complainant', \n",
    "       'Working Status of Complainant', 'Shift of Complainant',\n",
    "       'Rule Violation', 'Paragraph Violation', 'Unique Officer Allegation ID',\n",
    "       'Officer Race Ethnicity', 'Officer Gender', 'Officer Age',\n",
    "       'Officer years of service', 'Complainant Gender',\n",
    "       'Complainant Ethnicity', 'Complainant Age', \"Disposition\"]]\n",
    "\n",
    "dfb.loc[:, \"tracking_id\"] = dfb.tracking_id.str.lower().str.strip().str.replace(r\"\\s+\", \"\", regex=True)\n",
    "\n",
    "\n",
    "doubles_b = dfb[dfb.tracking_id.fillna(\"\").str.contains(\"2016-0629\")]\n",
    "\n",
    "doubles_b"
   ]
  },
  {
   "cell_type": "code",
   "execution_count": 107,
   "metadata": {},
   "outputs": [],
   "source": [
    "df = pd.merge(dfa, dfb, on=\"tracking_id\")\n",
    "\n",
    "df = df.drop_duplicates(subset=[\"allegation_number\"])"
   ]
  },
  {
   "cell_type": "code",
   "execution_count": 108,
   "metadata": {},
   "outputs": [
    {
     "ename": "KeyError",
     "evalue": "'Disposition'",
     "output_type": "error",
     "traceback": [
      "\u001b[0;31m---------------------------------------------------------------------------\u001b[0m",
      "\u001b[0;31mKeyError\u001b[0m                                  Traceback (most recent call last)",
      "File \u001b[0;32m/opt/homebrew/lib/python3.11/site-packages/pandas/core/indexes/base.py:3802\u001b[0m, in \u001b[0;36mIndex.get_loc\u001b[0;34m(self, key)\u001b[0m\n\u001b[1;32m   3801\u001b[0m \u001b[39mtry\u001b[39;00m:\n\u001b[0;32m-> 3802\u001b[0m     \u001b[39mreturn\u001b[39;00m \u001b[39mself\u001b[39;49m\u001b[39m.\u001b[39;49m_engine\u001b[39m.\u001b[39;49mget_loc(casted_key)\n\u001b[1;32m   3803\u001b[0m \u001b[39mexcept\u001b[39;00m \u001b[39mKeyError\u001b[39;00m \u001b[39mas\u001b[39;00m err:\n",
      "File \u001b[0;32mindex.pyx:153\u001b[0m, in \u001b[0;36mpandas._libs.index.IndexEngine.get_loc\u001b[0;34m()\u001b[0m\n",
      "File \u001b[0;32mindex.pyx:182\u001b[0m, in \u001b[0;36mpandas._libs.index.IndexEngine.get_loc\u001b[0;34m()\u001b[0m\n",
      "File \u001b[0;32mpandas/_libs/hashtable_class_helper.pxi:7081\u001b[0m, in \u001b[0;36mpandas._libs.hashtable.PyObjectHashTable.get_item\u001b[0;34m()\u001b[0m\n",
      "File \u001b[0;32mpandas/_libs/hashtable_class_helper.pxi:7089\u001b[0m, in \u001b[0;36mpandas._libs.hashtable.PyObjectHashTable.get_item\u001b[0;34m()\u001b[0m\n",
      "\u001b[0;31mKeyError\u001b[0m: 'Disposition'",
      "\nThe above exception was the direct cause of the following exception:\n",
      "\u001b[0;31mKeyError\u001b[0m                                  Traceback (most recent call last)",
      "\u001b[1;32m/Users/ayyub/Desktop/nopd-report/prr-portal-comparison/src/eda.ipynb Cell 6\u001b[0m line \u001b[0;36m3\n\u001b[1;32m      <a href='vscode-notebook-cell:/Users/ayyub/Desktop/nopd-report/prr-portal-comparison/src/eda.ipynb#W5sZmlsZQ%3D%3D?line=0'>1</a>\u001b[0m df\u001b[39m.\u001b[39mloc[:, \u001b[39m\"\u001b[39m\u001b[39mallegation_desc\u001b[39m\u001b[39m\"\u001b[39m] \u001b[39m=\u001b[39m df\u001b[39m.\u001b[39mallegation_desc\u001b[39m.\u001b[39mstr\u001b[39m.\u001b[39mlower()\u001b[39m.\u001b[39mstr\u001b[39m.\u001b[39mstrip()\n\u001b[0;32m----> <a href='vscode-notebook-cell:/Users/ayyub/Desktop/nopd-report/prr-portal-comparison/src/eda.ipynb#W5sZmlsZQ%3D%3D?line=2'>3</a>\u001b[0m df\u001b[39m.\u001b[39mloc[:, \u001b[39m\"\u001b[39m\u001b[39mDisposition\u001b[39m\u001b[39m\"\u001b[39m] \u001b[39m=\u001b[39m df[\u001b[39m\"\u001b[39;49m\u001b[39mDisposition\u001b[39;49m\u001b[39m\"\u001b[39;49m]\u001b[39m.\u001b[39mstr\u001b[39m.\u001b[39mlower()\u001b[39m.\u001b[39mstr\u001b[39m.\u001b[39mstrip()\n",
      "File \u001b[0;32m/opt/homebrew/lib/python3.11/site-packages/pandas/core/frame.py:4090\u001b[0m, in \u001b[0;36mDataFrame.__getitem__\u001b[0;34m(self, key)\u001b[0m\n\u001b[1;32m   4088\u001b[0m \u001b[39mif\u001b[39;00m \u001b[39mself\u001b[39m\u001b[39m.\u001b[39mcolumns\u001b[39m.\u001b[39mnlevels \u001b[39m>\u001b[39m \u001b[39m1\u001b[39m:\n\u001b[1;32m   4089\u001b[0m     \u001b[39mreturn\u001b[39;00m \u001b[39mself\u001b[39m\u001b[39m.\u001b[39m_getitem_multilevel(key)\n\u001b[0;32m-> 4090\u001b[0m indexer \u001b[39m=\u001b[39m \u001b[39mself\u001b[39;49m\u001b[39m.\u001b[39;49mcolumns\u001b[39m.\u001b[39;49mget_loc(key)\n\u001b[1;32m   4091\u001b[0m \u001b[39mif\u001b[39;00m is_integer(indexer):\n\u001b[1;32m   4092\u001b[0m     indexer \u001b[39m=\u001b[39m [indexer]\n",
      "File \u001b[0;32m/opt/homebrew/lib/python3.11/site-packages/pandas/core/indexes/base.py:3809\u001b[0m, in \u001b[0;36mIndex.get_loc\u001b[0;34m(self, key)\u001b[0m\n\u001b[1;32m   3804\u001b[0m     \u001b[39mif\u001b[39;00m \u001b[39misinstance\u001b[39m(casted_key, \u001b[39mslice\u001b[39m) \u001b[39mor\u001b[39;00m (\n\u001b[1;32m   3805\u001b[0m         \u001b[39misinstance\u001b[39m(casted_key, abc\u001b[39m.\u001b[39mIterable)\n\u001b[1;32m   3806\u001b[0m         \u001b[39mand\u001b[39;00m \u001b[39many\u001b[39m(\u001b[39misinstance\u001b[39m(x, \u001b[39mslice\u001b[39m) \u001b[39mfor\u001b[39;00m x \u001b[39min\u001b[39;00m casted_key)\n\u001b[1;32m   3807\u001b[0m     ):\n\u001b[1;32m   3808\u001b[0m         \u001b[39mraise\u001b[39;00m InvalidIndexError(key)\n\u001b[0;32m-> 3809\u001b[0m     \u001b[39mraise\u001b[39;00m \u001b[39mKeyError\u001b[39;00m(key) \u001b[39mfrom\u001b[39;00m \u001b[39merr\u001b[39;00m\n\u001b[1;32m   3810\u001b[0m \u001b[39mexcept\u001b[39;00m \u001b[39mTypeError\u001b[39;00m:\n\u001b[1;32m   3811\u001b[0m     \u001b[39m# If we have a listlike key, _check_indexing_error will raise\u001b[39;00m\n\u001b[1;32m   3812\u001b[0m     \u001b[39m#  InvalidIndexError. Otherwise we fall through and re-raise\u001b[39;00m\n\u001b[1;32m   3813\u001b[0m     \u001b[39m#  the TypeError.\u001b[39;00m\n\u001b[1;32m   3814\u001b[0m     \u001b[39mself\u001b[39m\u001b[39m.\u001b[39m_check_indexing_error(key)\n",
      "\u001b[0;31mKeyError\u001b[0m: 'Disposition'"
     ]
    }
   ],
   "source": [
    "df.loc[:, \"allegation_desc\"] = df.allegation_desc.str.lower().str.strip()\n",
    "\n",
    "df.loc[:, \"Disposition\"] = df[\"Disposition\"].str.lower().str.strip()"
   ]
  },
  {
   "cell_type": "code",
   "execution_count": null,
   "metadata": {},
   "outputs": [
    {
     "data": {
      "application/vnd.plotly.v1+json": {
       "config": {
        "plotlyServerURL": "https://plot.ly"
       },
       "data": [
        {
         "alignmentgroup": "True",
         "hovertemplate": "variable=count<br>Count=%{x}<br>allegation=%{y}<extra></extra>",
         "legendgroup": "count",
         "marker": {
          "color": "#636efa",
          "pattern": {
           "shape": ""
          }
         },
         "name": "count",
         "offsetgroup": "count",
         "orientation": "h",
         "showlegend": true,
         "textposition": "auto",
         "type": "bar",
         "x": [
          4914,
          1973,
          764,
          603,
          390,
          153,
          152,
          74,
          74,
          72,
          69,
          66,
          58,
          53,
          52,
          48,
          37,
          35,
          27,
          26,
          25,
          24,
          21,
          20,
          20
         ],
         "xaxis": "x",
         "y": [
          "rule 4: perf of duty paragraph 04 - neglect of duty",
          "rule 3: prof conduct paragraph 01 - professionalism",
          "rule 4: perf of duty paragraph 02 - instructions from authoritative source",
          "rule 2: moral conduct paragraph 01 - adherence to law",
          "rule 2: moral conduct paragraph 06 - unauthorized force",
          "rule 4: perf of duty paragraph 04 neglect of duty",
          "rule 2: moral conduct paragraph 02 - courtesy",
          "no violation observed ",
          "rule 2: moral conduct paragraph 05 verbal intimidation",
          "rule 6: official info paragraph 02 false or inaccurate reports",
          "rule 4: perf of duty paragraph 01 - reporting for duty",
          "rule 2: moral conduct paragraph 03 - honesty and truthfulness",
          "rule 3: prof conduct paragraph 01 professionalism",
          "rule 4: perf of duty paragraph 03 - devoting entire time to duty",
          "rule 2: moral conduct paragraph 04 - discrimination",
          "rule 5: rest activities paragraph 07 acting impartially",
          "no allegation assigned at this time ",
          "rule 2: moral conduct paragraph 06 unauthorized force",
          "rule 3: prof conduct paragraph 09 use of alcohol/drugs off-duty",
          "rule 5: rest activities paragraph 07 - acting impartially",
          " ",
          "rule 3: prof conduct paragraph 13 social networking websites etc.",
          "rule 5: rest activities paragraph 02 - associations",
          "rule 4: perf of duty paragraph 06 - leaving assigned area",
          "rule 3: prof conduct paragraph 02 - abuse of position"
         ],
         "yaxis": "y"
        }
       ],
       "layout": {
        "barmode": "relative",
        "height": 900,
        "legend": {
         "title": {
          "text": "variable"
         },
         "tracegroupgap": 0
        },
        "template": {
         "data": {
          "bar": [
           {
            "error_x": {
             "color": "#2a3f5f"
            },
            "error_y": {
             "color": "#2a3f5f"
            },
            "marker": {
             "line": {
              "color": "#E5ECF6",
              "width": 0.5
             },
             "pattern": {
              "fillmode": "overlay",
              "size": 10,
              "solidity": 0.2
             }
            },
            "type": "bar"
           }
          ],
          "barpolar": [
           {
            "marker": {
             "line": {
              "color": "#E5ECF6",
              "width": 0.5
             },
             "pattern": {
              "fillmode": "overlay",
              "size": 10,
              "solidity": 0.2
             }
            },
            "type": "barpolar"
           }
          ],
          "carpet": [
           {
            "aaxis": {
             "endlinecolor": "#2a3f5f",
             "gridcolor": "white",
             "linecolor": "white",
             "minorgridcolor": "white",
             "startlinecolor": "#2a3f5f"
            },
            "baxis": {
             "endlinecolor": "#2a3f5f",
             "gridcolor": "white",
             "linecolor": "white",
             "minorgridcolor": "white",
             "startlinecolor": "#2a3f5f"
            },
            "type": "carpet"
           }
          ],
          "choropleth": [
           {
            "colorbar": {
             "outlinewidth": 0,
             "ticks": ""
            },
            "type": "choropleth"
           }
          ],
          "contour": [
           {
            "colorbar": {
             "outlinewidth": 0,
             "ticks": ""
            },
            "colorscale": [
             [
              0,
              "#0d0887"
             ],
             [
              0.1111111111111111,
              "#46039f"
             ],
             [
              0.2222222222222222,
              "#7201a8"
             ],
             [
              0.3333333333333333,
              "#9c179e"
             ],
             [
              0.4444444444444444,
              "#bd3786"
             ],
             [
              0.5555555555555556,
              "#d8576b"
             ],
             [
              0.6666666666666666,
              "#ed7953"
             ],
             [
              0.7777777777777778,
              "#fb9f3a"
             ],
             [
              0.8888888888888888,
              "#fdca26"
             ],
             [
              1,
              "#f0f921"
             ]
            ],
            "type": "contour"
           }
          ],
          "contourcarpet": [
           {
            "colorbar": {
             "outlinewidth": 0,
             "ticks": ""
            },
            "type": "contourcarpet"
           }
          ],
          "heatmap": [
           {
            "colorbar": {
             "outlinewidth": 0,
             "ticks": ""
            },
            "colorscale": [
             [
              0,
              "#0d0887"
             ],
             [
              0.1111111111111111,
              "#46039f"
             ],
             [
              0.2222222222222222,
              "#7201a8"
             ],
             [
              0.3333333333333333,
              "#9c179e"
             ],
             [
              0.4444444444444444,
              "#bd3786"
             ],
             [
              0.5555555555555556,
              "#d8576b"
             ],
             [
              0.6666666666666666,
              "#ed7953"
             ],
             [
              0.7777777777777778,
              "#fb9f3a"
             ],
             [
              0.8888888888888888,
              "#fdca26"
             ],
             [
              1,
              "#f0f921"
             ]
            ],
            "type": "heatmap"
           }
          ],
          "heatmapgl": [
           {
            "colorbar": {
             "outlinewidth": 0,
             "ticks": ""
            },
            "colorscale": [
             [
              0,
              "#0d0887"
             ],
             [
              0.1111111111111111,
              "#46039f"
             ],
             [
              0.2222222222222222,
              "#7201a8"
             ],
             [
              0.3333333333333333,
              "#9c179e"
             ],
             [
              0.4444444444444444,
              "#bd3786"
             ],
             [
              0.5555555555555556,
              "#d8576b"
             ],
             [
              0.6666666666666666,
              "#ed7953"
             ],
             [
              0.7777777777777778,
              "#fb9f3a"
             ],
             [
              0.8888888888888888,
              "#fdca26"
             ],
             [
              1,
              "#f0f921"
             ]
            ],
            "type": "heatmapgl"
           }
          ],
          "histogram": [
           {
            "marker": {
             "pattern": {
              "fillmode": "overlay",
              "size": 10,
              "solidity": 0.2
             }
            },
            "type": "histogram"
           }
          ],
          "histogram2d": [
           {
            "colorbar": {
             "outlinewidth": 0,
             "ticks": ""
            },
            "colorscale": [
             [
              0,
              "#0d0887"
             ],
             [
              0.1111111111111111,
              "#46039f"
             ],
             [
              0.2222222222222222,
              "#7201a8"
             ],
             [
              0.3333333333333333,
              "#9c179e"
             ],
             [
              0.4444444444444444,
              "#bd3786"
             ],
             [
              0.5555555555555556,
              "#d8576b"
             ],
             [
              0.6666666666666666,
              "#ed7953"
             ],
             [
              0.7777777777777778,
              "#fb9f3a"
             ],
             [
              0.8888888888888888,
              "#fdca26"
             ],
             [
              1,
              "#f0f921"
             ]
            ],
            "type": "histogram2d"
           }
          ],
          "histogram2dcontour": [
           {
            "colorbar": {
             "outlinewidth": 0,
             "ticks": ""
            },
            "colorscale": [
             [
              0,
              "#0d0887"
             ],
             [
              0.1111111111111111,
              "#46039f"
             ],
             [
              0.2222222222222222,
              "#7201a8"
             ],
             [
              0.3333333333333333,
              "#9c179e"
             ],
             [
              0.4444444444444444,
              "#bd3786"
             ],
             [
              0.5555555555555556,
              "#d8576b"
             ],
             [
              0.6666666666666666,
              "#ed7953"
             ],
             [
              0.7777777777777778,
              "#fb9f3a"
             ],
             [
              0.8888888888888888,
              "#fdca26"
             ],
             [
              1,
              "#f0f921"
             ]
            ],
            "type": "histogram2dcontour"
           }
          ],
          "mesh3d": [
           {
            "colorbar": {
             "outlinewidth": 0,
             "ticks": ""
            },
            "type": "mesh3d"
           }
          ],
          "parcoords": [
           {
            "line": {
             "colorbar": {
              "outlinewidth": 0,
              "ticks": ""
             }
            },
            "type": "parcoords"
           }
          ],
          "pie": [
           {
            "automargin": true,
            "type": "pie"
           }
          ],
          "scatter": [
           {
            "fillpattern": {
             "fillmode": "overlay",
             "size": 10,
             "solidity": 0.2
            },
            "type": "scatter"
           }
          ],
          "scatter3d": [
           {
            "line": {
             "colorbar": {
              "outlinewidth": 0,
              "ticks": ""
             }
            },
            "marker": {
             "colorbar": {
              "outlinewidth": 0,
              "ticks": ""
             }
            },
            "type": "scatter3d"
           }
          ],
          "scattercarpet": [
           {
            "marker": {
             "colorbar": {
              "outlinewidth": 0,
              "ticks": ""
             }
            },
            "type": "scattercarpet"
           }
          ],
          "scattergeo": [
           {
            "marker": {
             "colorbar": {
              "outlinewidth": 0,
              "ticks": ""
             }
            },
            "type": "scattergeo"
           }
          ],
          "scattergl": [
           {
            "marker": {
             "colorbar": {
              "outlinewidth": 0,
              "ticks": ""
             }
            },
            "type": "scattergl"
           }
          ],
          "scattermapbox": [
           {
            "marker": {
             "colorbar": {
              "outlinewidth": 0,
              "ticks": ""
             }
            },
            "type": "scattermapbox"
           }
          ],
          "scatterpolar": [
           {
            "marker": {
             "colorbar": {
              "outlinewidth": 0,
              "ticks": ""
             }
            },
            "type": "scatterpolar"
           }
          ],
          "scatterpolargl": [
           {
            "marker": {
             "colorbar": {
              "outlinewidth": 0,
              "ticks": ""
             }
            },
            "type": "scatterpolargl"
           }
          ],
          "scatterternary": [
           {
            "marker": {
             "colorbar": {
              "outlinewidth": 0,
              "ticks": ""
             }
            },
            "type": "scatterternary"
           }
          ],
          "surface": [
           {
            "colorbar": {
             "outlinewidth": 0,
             "ticks": ""
            },
            "colorscale": [
             [
              0,
              "#0d0887"
             ],
             [
              0.1111111111111111,
              "#46039f"
             ],
             [
              0.2222222222222222,
              "#7201a8"
             ],
             [
              0.3333333333333333,
              "#9c179e"
             ],
             [
              0.4444444444444444,
              "#bd3786"
             ],
             [
              0.5555555555555556,
              "#d8576b"
             ],
             [
              0.6666666666666666,
              "#ed7953"
             ],
             [
              0.7777777777777778,
              "#fb9f3a"
             ],
             [
              0.8888888888888888,
              "#fdca26"
             ],
             [
              1,
              "#f0f921"
             ]
            ],
            "type": "surface"
           }
          ],
          "table": [
           {
            "cells": {
             "fill": {
              "color": "#EBF0F8"
             },
             "line": {
              "color": "white"
             }
            },
            "header": {
             "fill": {
              "color": "#C8D4E3"
             },
             "line": {
              "color": "white"
             }
            },
            "type": "table"
           }
          ]
         },
         "layout": {
          "annotationdefaults": {
           "arrowcolor": "#2a3f5f",
           "arrowhead": 0,
           "arrowwidth": 1
          },
          "autotypenumbers": "strict",
          "coloraxis": {
           "colorbar": {
            "outlinewidth": 0,
            "ticks": ""
           }
          },
          "colorscale": {
           "diverging": [
            [
             0,
             "#8e0152"
            ],
            [
             0.1,
             "#c51b7d"
            ],
            [
             0.2,
             "#de77ae"
            ],
            [
             0.3,
             "#f1b6da"
            ],
            [
             0.4,
             "#fde0ef"
            ],
            [
             0.5,
             "#f7f7f7"
            ],
            [
             0.6,
             "#e6f5d0"
            ],
            [
             0.7,
             "#b8e186"
            ],
            [
             0.8,
             "#7fbc41"
            ],
            [
             0.9,
             "#4d9221"
            ],
            [
             1,
             "#276419"
            ]
           ],
           "sequential": [
            [
             0,
             "#0d0887"
            ],
            [
             0.1111111111111111,
             "#46039f"
            ],
            [
             0.2222222222222222,
             "#7201a8"
            ],
            [
             0.3333333333333333,
             "#9c179e"
            ],
            [
             0.4444444444444444,
             "#bd3786"
            ],
            [
             0.5555555555555556,
             "#d8576b"
            ],
            [
             0.6666666666666666,
             "#ed7953"
            ],
            [
             0.7777777777777778,
             "#fb9f3a"
            ],
            [
             0.8888888888888888,
             "#fdca26"
            ],
            [
             1,
             "#f0f921"
            ]
           ],
           "sequentialminus": [
            [
             0,
             "#0d0887"
            ],
            [
             0.1111111111111111,
             "#46039f"
            ],
            [
             0.2222222222222222,
             "#7201a8"
            ],
            [
             0.3333333333333333,
             "#9c179e"
            ],
            [
             0.4444444444444444,
             "#bd3786"
            ],
            [
             0.5555555555555556,
             "#d8576b"
            ],
            [
             0.6666666666666666,
             "#ed7953"
            ],
            [
             0.7777777777777778,
             "#fb9f3a"
            ],
            [
             0.8888888888888888,
             "#fdca26"
            ],
            [
             1,
             "#f0f921"
            ]
           ]
          },
          "colorway": [
           "#636efa",
           "#EF553B",
           "#00cc96",
           "#ab63fa",
           "#FFA15A",
           "#19d3f3",
           "#FF6692",
           "#B6E880",
           "#FF97FF",
           "#FECB52"
          ],
          "font": {
           "color": "#2a3f5f"
          },
          "geo": {
           "bgcolor": "white",
           "lakecolor": "white",
           "landcolor": "#E5ECF6",
           "showlakes": true,
           "showland": true,
           "subunitcolor": "white"
          },
          "hoverlabel": {
           "align": "left"
          },
          "hovermode": "closest",
          "mapbox": {
           "style": "light"
          },
          "paper_bgcolor": "white",
          "plot_bgcolor": "#E5ECF6",
          "polar": {
           "angularaxis": {
            "gridcolor": "white",
            "linecolor": "white",
            "ticks": ""
           },
           "bgcolor": "#E5ECF6",
           "radialaxis": {
            "gridcolor": "white",
            "linecolor": "white",
            "ticks": ""
           }
          },
          "scene": {
           "xaxis": {
            "backgroundcolor": "#E5ECF6",
            "gridcolor": "white",
            "gridwidth": 2,
            "linecolor": "white",
            "showbackground": true,
            "ticks": "",
            "zerolinecolor": "white"
           },
           "yaxis": {
            "backgroundcolor": "#E5ECF6",
            "gridcolor": "white",
            "gridwidth": 2,
            "linecolor": "white",
            "showbackground": true,
            "ticks": "",
            "zerolinecolor": "white"
           },
           "zaxis": {
            "backgroundcolor": "#E5ECF6",
            "gridcolor": "white",
            "gridwidth": 2,
            "linecolor": "white",
            "showbackground": true,
            "ticks": "",
            "zerolinecolor": "white"
           }
          },
          "shapedefaults": {
           "line": {
            "color": "#2a3f5f"
           }
          },
          "ternary": {
           "aaxis": {
            "gridcolor": "white",
            "linecolor": "white",
            "ticks": ""
           },
           "baxis": {
            "gridcolor": "white",
            "linecolor": "white",
            "ticks": ""
           },
           "bgcolor": "#E5ECF6",
           "caxis": {
            "gridcolor": "white",
            "linecolor": "white",
            "ticks": ""
           }
          },
          "title": {
           "x": 0.05
          },
          "xaxis": {
           "automargin": true,
           "gridcolor": "white",
           "linecolor": "white",
           "ticks": "",
           "title": {
            "standoff": 15
           },
           "zerolinecolor": "white",
           "zerolinewidth": 2
          },
          "yaxis": {
           "automargin": true,
           "gridcolor": "white",
           "linecolor": "white",
           "ticks": "",
           "title": {
            "standoff": 15
           },
           "zerolinecolor": "white",
           "zerolinewidth": 2
          }
         }
        },
        "title": {
         "text": "Top 25 Allegations"
        },
        "xaxis": {
         "anchor": "y",
         "domain": [
          0,
          1
         ],
         "title": {
          "text": "Count"
         }
        },
        "yaxis": {
         "anchor": "x",
         "automargin": true,
         "categoryorder": "total ascending",
         "domain": [
          0,
          1
         ],
         "tickmode": "array",
         "ticktext": [
          "rule 4: perf of duty paragraph 04 - neglect of duty",
          "rule 3: prof conduct paragraph 01 - professionalism",
          "rule 4: perf of duty paragraph 02 - instructions from authoritative source",
          "rule 2: moral conduct paragraph 01 - adherence to law",
          "rule 2: moral conduct paragraph 06 - unauthorized force",
          "rule 4: perf of duty paragraph 04 neglect of duty",
          "rule 2: moral conduct paragraph 02 - courtesy",
          "no violation observed ",
          "rule 2: moral conduct paragraph 05 verbal intimidation",
          "rule 6: official info paragraph 02 false or inaccurate reports",
          "rule 4: perf of duty paragraph 01 - reporting for duty",
          "rule 2: moral conduct paragraph 03 - honesty and truthfulness",
          "rule 3: prof conduct paragraph 01 professionalism",
          "rule 4: perf of duty paragraph 03 - devoting entire time to duty",
          "rule 2: moral conduct paragraph 04 - discrimination",
          "rule 5: rest activities paragraph 07 acting impartially",
          "no allegation assigned at this time ",
          "rule 2: moral conduct paragraph 06 unauthorized force",
          "rule 3: prof conduct paragraph 09 use of alcohol/drugs off-duty",
          "rule 5: rest activities paragraph 07 - acting impartially",
          " ",
          "rule 3: prof conduct paragraph 13 social networking websites etc.",
          "rule 5: rest activities paragraph 02 - associations",
          "rule 4: perf of duty paragraph 06 - leaving assigned area",
          "rule 3: prof conduct paragraph 02 - abuse of position"
         ],
         "tickvals": [
          0,
          1,
          2,
          3,
          4,
          5,
          6,
          7,
          8,
          9,
          10,
          11,
          12,
          13,
          14,
          15,
          16,
          17,
          18,
          19,
          20,
          21,
          22,
          23,
          24
         ],
         "title": {
          "text": "Allegation"
         }
        }
       }
      }
     },
     "metadata": {},
     "output_type": "display_data"
    }
   ],
   "source": [
    "top_allegations = df['allegation'].value_counts().head(25)\n",
    "\n",
    "# Create a horizontal bar chart\n",
    "fig = px.bar(top_allegations, orientation='h', labels={'index': 'Allegation', 'value': 'Count'}, \n",
    "             title='Top 25 Allegations')\n",
    "fig.update_layout(\n",
    "    xaxis_title=\"Count\",\n",
    "    yaxis_title=\"Allegation\",\n",
    "    yaxis={'categoryorder':'total ascending'},\n",
    "    height=900  # Adjusted for better visibility with more categories\n",
    ")\n",
    "fig.update_yaxes(automargin=True, tickmode='array', tickvals=list(range(len(top_allegations))), ticktext=top_allegations.index)\n",
    "fig.show()"
   ]
  },
  {
   "cell_type": "code",
   "execution_count": null,
   "metadata": {},
   "outputs": [],
   "source": [
    "# df = df[~((df.allegation_desc == \"missing\"))]\n",
    "\n",
    "# # Top 25 allegation descriptions\n",
    "# top_allegation_desc = df['allegation_desc'].value_counts().head(25)\n",
    "# fig_desc = px.bar(top_allegation_desc, orientation='h', labels={'index': 'Allegation Description', 'value': 'Count'}, \n",
    "#                   title='Top 25 Allegation Descriptions')\n",
    "# fig_desc.update_layout(\n",
    "#     xaxis_title=\"Count\",\n",
    "#     yaxis_title=\"Allegation Description\",\n",
    "#     yaxis={'categoryorder':'total ascending'},\n",
    "#     height=800  # Increased height to accommodate more bars\n",
    "# )\n",
    "# fig_desc.update_yaxes(automargin=True, tickmode='array', tickvals=list(range(len(top_allegation_desc))), ticktext=top_allegation_desc.index)\n",
    "# fig_desc.show()"
   ]
  },
  {
   "cell_type": "code",
   "execution_count": null,
   "metadata": {},
   "outputs": [],
   "source": [
    "df.loc[:, \"tag\"] = (df\n",
    "                    .allegation_desc\n",
    "                    .str.lower()\n",
    "                    .str.replace(r\"(.+)(domestic violence|domestic abuse|domestic battery)(.+)?\", \"domestic violence\", regex=True)\n",
    "                    .str.replace(r\"(.+)battery(.+)?\", \"battery\", regex=True)\n",
    "                    .str.replace(r\"(.+)?rape(.+)?\", \"rape\", regex=True)\n",
    "                    .str.replace(r\"(.+)sexual harassment(.+)?\", \"sexual harassment\", regex=True)\n",
    "                    .str.replace(r\"(.+)assault(.+)?\", \"assault\", regex=True)\n",
    "                    .str.replace(r\"(.+)body-? ?worn cameras?(.+)?\", \"body worn camera\", regex=True)\n",
    "                    .str.replace(r\"(.+)theft(.+)?\", \"theft\", regex=True)\n",
    "                    .str.replace(r\"(.+)stop(.+)?\", \"terry stop\", regex=True)\n",
    "                    .str.replace(r\"(.+)(authorized firearm|pr312 firearms|possession of a firearm)(.+)?\", \"firearms\")\n",
    "                    .str.replace(r\"(.+)(firearms training|firearms recertification)(.+)?\", \"firearms training\")\n",
    "                    .str.replace(r\"(.+)bias(.+)?\", \"biased based policing\", regex=True)\n",
    "                    .str.replace(r\"(.+)stalking(.+)?\", \"stalking\", regex=True)\n",
    "                    .str.replace(r\"(.+)(search & seizure|search and seizure)(.+)?\", \"search and seizure\", regex=True)\n",
    "                    .str.replace(r\"(.+)supervise(.+)?\", \"failure to supervise\", regex=True)\n",
    "                    .str.replace(r\"(.+)use of force(.+)?\", \"use of force\", regex=True)\n",
    "                    .str.replace(r\"(.+)?necessary police action(.+)?\", \"failure to take appropriate and necessary action\", regex=True)\n",
    "                    .str.replace(r\"(.+)?collect(.+)?\", \"failure to collect, preserve, and identify evidence\", regex=True)\n",
    "                    .str.replace(r\"(.+)?payroll(.+)?\", \"payroll fraud\", regex=True)\n",
    "                    .str.replace(r\"^\\'((.+)to cruelty to juveniles|(.+)relative to indecent behavior with juvenile|(.+)relative to indecent behavior with a juvenile|(.+)relative to molestation of a juvenile|(.+)cruelty to juveniles|(.+)?child abuse(.+)?)\", \"violence against juvenile\", regex=True)\n",
    ")\n",
    "\n",
    "\n",
    "df = df[~((df.tag.fillna(\"\") == \"\"))]"
   ]
  },
  {
   "cell_type": "code",
   "execution_count": null,
   "metadata": {},
   "outputs": [
    {
     "data": {
      "text/plain": [
       "tag\n",
       "battery                      5\n",
       "domestic violence            5\n",
       "violence against juvenile    1\n",
       "Name: count, dtype: int64"
      ]
     },
     "execution_count": 54,
     "metadata": {},
     "output_type": "execute_result"
    }
   ],
   "source": [
    "dv_df = df[df.tag.str.contains(\"domestic violence|battery|rape|assault|violence against juvenile\")]\n",
    "\n",
    "dv_df = dv_df[dv_df.year.astype(str).str.contains(\"2022\")]\n",
    "\n",
    "dv_df.tag.value_counts()\n",
    "# dv_df"
   ]
  },
  {
   "cell_type": "code",
   "execution_count": null,
   "metadata": {},
   "outputs": [],
   "source": [
    "\n",
    "# # Group by year and count the occurrences\n",
    "# yearly_counts = dv_df.groupby('year').size().reset_index(name='Count')\n",
    "\n",
    "# # Create a line graph\n",
    "# fig = px.line(yearly_counts, x='year', y='Count', title='Domestic Violence Complaints per Year', markers=True)\n",
    "# fig.update_traces(textposition='top center')\n",
    "# fig.show()"
   ]
  },
  {
   "cell_type": "code",
   "execution_count": null,
   "metadata": {},
   "outputs": [],
   "source": [
    "# # # Count occurrences of each disposition\n",
    "# # disposition_counts = dv_df['Disposition'].value_counts().reset_index()\n",
    "# # disposition_counts.columns = ['Disposition', 'Count']\n",
    "\n",
    "# # # Create a bar chart\n",
    "# # fig = px.bar(disposition_counts, x='Disposition', y='Count', title='Disposition of Domestic Violence Complaints')\n",
    "# # fig.show()\n",
    "\n",
    "# # Count occurrences of each disposition by year\n",
    "# disposition_counts = dv_df.groupby(['year', 'Disposition']).size().reset_index(name='Count')\n",
    "\n",
    "# # Calculate the total count of dispositions for each year\n",
    "# total_counts = disposition_counts.groupby('year')['Count'].transform('sum')\n",
    "\n",
    "# # Calculate the proportion of each disposition for each year\n",
    "# disposition_counts['Proportion'] = disposition_counts['Count'] / total_counts\n",
    "\n",
    "# # Create a stacked bar chart\n",
    "# fig = px.bar(disposition_counts, x='year', y='Proportion', color='Disposition',\n",
    "#              title='Proportions of Dispositions by Year')\n",
    "# fig.show()"
   ]
  },
  {
   "cell_type": "code",
   "execution_count": null,
   "metadata": {},
   "outputs": [],
   "source": [
    "# # Count occurrences of each incident type for domestic violence complaints\n",
    "# incident_type_counts = dv_df[\"'Incident Type\"].value_counts().reset_index()\n",
    "# incident_type_counts.columns = [\"'Incident Type\", 'Count']\n",
    "\n",
    "# # Create a bar chart for Incident Type\n",
    "# fig = px.bar(incident_type_counts, x=\"'Incident Type\", y='Count', title='Incident Types for Domestic Violence Complaints')\n",
    "# fig.show()"
   ]
  },
  {
   "cell_type": "code",
   "execution_count": null,
   "metadata": {},
   "outputs": [],
   "source": [
    "# public_initiated_dv_df = df[(df['tag'] == 'domestic violence') & (df[\"'Incident Type\"] == \"'Rank Initiated\")]\n",
    "\n",
    "# # Count occurrences of each disposition for domestic violence 'Public Initiated' incident types\n",
    "# disposition_counts = public_initiated_dv_df['Disposition'].value_counts().reset_index()\n",
    "# disposition_counts.columns = ['Disposition', 'Count']\n",
    "\n",
    "# # Create a bar chart for Disposition counts of Public Initiated Domestic Violence Incidents\n",
    "# fig = px.bar(disposition_counts, x='Disposition', y='Count', title='Disposition Counts for \"Public Initiated\" Domestic Violence Incidents')\n",
    "# fig.show()"
   ]
  },
  {
   "cell_type": "code",
   "execution_count": null,
   "metadata": {},
   "outputs": [],
   "source": [
    "# # Count occurrences of each disposition for domestic violence 'Public Initiated' incident types\n",
    "# disposition_counts_dv = public_initiated_dv_df['Disposition'].value_counts()\n",
    "\n",
    "# # Calculate the proportion of 'Sustained' dispositions\n",
    "# total_public_initiated_dv = disposition_counts_dv.sum()  # Total number of Public Initiated DV incidents\n",
    "# sustained_count_dv = disposition_counts_dv.get('sustained', 0)  # Number of Sustained dispositions\n",
    "# sustained_proportion_dv = sustained_count_dv / total_public_initiated_dv if total_public_initiated_dv > 0 else 0\n",
    "\n",
    "# # Output for comparison\n",
    "# sustained_proportion_dv"
   ]
  },
  {
   "cell_type": "code",
   "execution_count": null,
   "metadata": {},
   "outputs": [],
   "source": [
    "# public_initiated_df = df[df[\"'Incident Type\"] == \"'Public Initiated\"]\n",
    "\n",
    "# # Count occurrences of each disposition for 'Public Initiated' incident types\n",
    "# disposition_counts = public_initiated_df['Disposition'].value_counts()\n",
    "\n",
    "# # Calculate the proportion of 'Sustained' dispositions\n",
    "# total_public_initiated = disposition_counts.sum()  # Total number of Public Initiated incidents\n",
    "# sustained_count = disposition_counts.get('sustained', 0)  # Number of Sustained dispositions\n",
    "# sustained_proportion = sustained_count / total_public_initiated if total_public_initiated > 0 else 0\n",
    "\n",
    "# # Print the proportion of 'Sustained' dispositions\n",
    "# sustained_proportion"
   ]
  },
  {
   "cell_type": "code",
   "execution_count": null,
   "metadata": {},
   "outputs": [],
   "source": [
    "# # Filter rows for domestic violence\n",
    "# evidence_df = df[df['tag'] == 'failure to collect, preserve, and identify evidence']\n",
    "\n",
    "# # Group by year and count the occurrences\n",
    "# yearly_counts = evidence_df.groupby('year').size().reset_index(name='Count')\n",
    "\n",
    "# # Create a line graph\n",
    "# fig = px.line(yearly_counts, x='year', y='Count', title='Evidence Complaints per Year', markers=True)\n",
    "# fig.update_traces(textposition='top center')\n",
    "# fig.show()"
   ]
  },
  {
   "cell_type": "code",
   "execution_count": null,
   "metadata": {},
   "outputs": [],
   "source": [
    "# # Count occurrences of each disposition\n",
    "# disposition_counts = evidence_df['Disposition'].value_counts().reset_index()\n",
    "# disposition_counts.columns = ['Disposition', 'Count']\n",
    "# # \n",
    "# # Create a bar chart\n",
    "# fig = px.bar(disposition_counts, x='Disposition', y='Count', title='Disposition of Evidence Complaints')\n",
    "# fig.show()"
   ]
  },
  {
   "cell_type": "code",
   "execution_count": null,
   "metadata": {},
   "outputs": [],
   "source": [
    "# # Count occurrences of each incident type for domestic violence complaints\n",
    "# incident_type_counts = evidence_df[\"'Incident Type\"].value_counts().reset_index()\n",
    "# incident_type_counts.columns = [\"'Incident Type\", 'Count']\n",
    "\n",
    "# # Create a bar chart for Incident Type\n",
    "# fig = px.bar(incident_type_counts, x=\"'Incident Type\", y='Count', title='Complainant Types for Evidence Complaints')\n",
    "# fig.show()"
   ]
  },
  {
   "cell_type": "code",
   "execution_count": null,
   "metadata": {},
   "outputs": [],
   "source": [
    "# evidence_type_df = df[(df['tag'] == 'failure to collect, preserve, and identify evidence') & (df[\"'Incident Type\"] == \"'Public Initiated\")]\n",
    "\n",
    "# # Count occurrences of each disposition for domestic violence 'Public Initiated' incident types\n",
    "# disposition_counts = evidence_type_df['Disposition'].value_counts().reset_index()\n",
    "# disposition_counts.columns = ['Disposition', 'Count']\n",
    "\n",
    "# # Create a bar chart for Disposition counts of Public Initiated Domestic Violence Incidents\n",
    "# fig = px.bar(disposition_counts, x='Disposition', y='Count', title='Disposition Counts for \"Public Initiated\" Evidence Complaints')\n",
    "# fig.show()"
   ]
  },
  {
   "cell_type": "code",
   "execution_count": null,
   "metadata": {},
   "outputs": [],
   "source": [
    "# evidence_type_df = df[(df['tag'] == 'failure to collect, preserve, and identify evidence') & (df[\"'Incident Type\"] == \"'Public Initiated\")]\n",
    "\n",
    "# # Count occurrences of each disposition for domestic violence 'Public Initiated' incident types\n",
    "# disposition_counts = evidence_type_df['Disposition'].value_counts().reset_index()\n",
    "# disposition_counts.columns = ['Disposition', 'Count']\n",
    "\n",
    "# # Create a bar chart for Disposition counts of Public Initiated Domestic Violence Incidents\n",
    "# fig = px.bar(disposition_counts, x='Disposition', y='Count', title='Disposition Counts for \"Rank Initiated\" Evidence Complaints')\n",
    "# fig.show()"
   ]
  },
  {
   "cell_type": "code",
   "execution_count": null,
   "metadata": {},
   "outputs": [],
   "source": [
    "# # Count occurrences of each disposition for domestic violence 'Public Initiated' incident types\n",
    "# disposition_counts_dv = evidence_type_df['Disposition'].value_counts()\n",
    "\n",
    "# # Calculate the proportion of 'Sustained' dispositions\n",
    "# total_public_initiated_dv = disposition_counts_dv.sum()  # Total number of Public Initiated DV incidents\n",
    "# sustained_count_dv = disposition_counts_dv.get('sustained', 0)  # Number of Sustained dispositions\n",
    "# sustained_proportion_dv = sustained_count_dv / total_public_initiated_dv if total_public_initiated_dv > 0 else 0\n",
    "\n",
    "# # Output for comparison\n",
    "# sustained_proportion_dv"
   ]
  }
 ],
 "metadata": {
  "kernelspec": {
   "display_name": "Python 3",
   "language": "python",
   "name": "python3"
  },
  "language_info": {
   "codemirror_mode": {
    "name": "ipython",
    "version": 3
   },
   "file_extension": ".py",
   "mimetype": "text/x-python",
   "name": "python",
   "nbconvert_exporter": "python",
   "pygments_lexer": "ipython3",
   "version": "3.11.7"
  }
 },
 "nbformat": 4,
 "nbformat_minor": 2
}
