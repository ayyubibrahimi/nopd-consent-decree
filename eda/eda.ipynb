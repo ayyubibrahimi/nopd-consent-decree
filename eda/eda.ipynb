{
 "cells": [
  {
   "cell_type": "code",
   "execution_count": 69,
   "metadata": {},
   "outputs": [],
   "source": [
    "import matplotlib.pyplot as plt\n",
    "import seaborn as sns\n",
    "import pandas as pd\n",
    "import plotly.express as px\n",
    "\n",
    "from helper import clean_column_names"
   ]
  },
  {
   "cell_type": "code",
   "execution_count": 70,
   "metadata": {},
   "outputs": [
    {
     "data": {
      "text/plain": [
       "array([\"'Paragraph C: Subparagraph 8 Failing to thoroughly search for, collect, preserve, and identify evidence in an arrest or investigative situation.\"],\n",
       "      dtype=object)"
      ]
     },
     "execution_count": 70,
     "metadata": {},
     "output_type": "execute_result"
    }
   ],
   "source": [
    "dfa = pd.read_csv(\"../data/input/brady_2016_2023.csv\")\n",
    "\n",
    "\n",
    "def clean_table(df):\n",
    "    df.loc[:, \"last_name\"] = df.last_name.str.replace(r\"\\'RULE(.+)\", \"\", regex=True).str.replace(r\"^\\'$\", \"\", regex=True)\n",
    "\n",
    "    df = df[~((df.last_name.fillna(\"\") == \"\"))]\n",
    "\n",
    "    df.loc[:, \"tracking_id\"] = df.tracking_id.str.replace(r\"^\\'\", \"\", regex=True)\n",
    "\n",
    "    df = df.sort_values(\"tracking_id\", ascending=False)\n",
    "\n",
    "    df.loc[:, \"allegation\"] = df.allegation_rule.str.cat(df.allegation_paragraph, sep=\" \")\n",
    "\n",
    "    df.loc[:, \"allegation\"] = df.allegation.str.lower().str.strip().str.replace(r\"\\'\", \"\", regex=True)\n",
    "\n",
    "    df = df.drop(columns=[\"allegation_rule\", \"allegation_paragraph\"])\n",
    "\n",
    "    df.loc[:, \"allegation_desc\"] = (df.allegation_desc\n",
    "                                    .str.replace(r\"\\'$\", \"\", regex=True)\n",
    "                                    .str.replace(r\"^$\", \"missing\", regex=True)\n",
    "    )\n",
    "\n",
    "    return df \n",
    "\n",
    "dfa = dfa.pipe(clean_table)\n",
    "\n",
    "dfa.loc[:, \"tracking_id\"] = dfa.tracking_id.str.lower().str.strip().str.replace(r\"\\s+\", \"\", regex=True).str.replace(r\"\\'\", \"\", regex=True)\n",
    "\n",
    "dfa\n",
    "\n",
    "doubles = dfa[dfa.tracking_id.str.contains(\"2016-0449\")]\n",
    "\n",
    "doubles.allegation_desc.unique()"
   ]
  },
  {
   "cell_type": "code",
   "execution_count": 71,
   "metadata": {},
   "outputs": [
    {
     "data": {
      "text/html": [
       "<div>\n",
       "<style scoped>\n",
       "    .dataframe tbody tr th:only-of-type {\n",
       "        vertical-align: middle;\n",
       "    }\n",
       "\n",
       "    .dataframe tbody tr th {\n",
       "        vertical-align: top;\n",
       "    }\n",
       "\n",
       "    .dataframe thead th {\n",
       "        text-align: right;\n",
       "    }\n",
       "</style>\n",
       "<table border=\"1\" class=\"dataframe\">\n",
       "  <thead>\n",
       "    <tr style=\"text-align: right;\">\n",
       "      <th></th>\n",
       "      <th>tracking_id</th>\n",
       "      <th>Date Complaint Occurred</th>\n",
       "      <th>Date Complaint Received by NOPD (PIB)</th>\n",
       "      <th>Date Complaint Investigation Complete</th>\n",
       "      <th>Complaint classification</th>\n",
       "      <th>Bureau of Complainant</th>\n",
       "      <th>Division of Complainant</th>\n",
       "      <th>Unit of Complainant</th>\n",
       "      <th>Unit Additional Details of Complainant</th>\n",
       "      <th>Working Status of Complainant</th>\n",
       "      <th>...</th>\n",
       "      <th>Paragraph Violation</th>\n",
       "      <th>Unique Officer Allegation ID</th>\n",
       "      <th>Officer Race Ethnicity</th>\n",
       "      <th>Officer Gender</th>\n",
       "      <th>Officer Age</th>\n",
       "      <th>Officer years of service</th>\n",
       "      <th>Complainant Gender</th>\n",
       "      <th>Complainant Ethnicity</th>\n",
       "      <th>Complainant Age</th>\n",
       "      <th>Disposition</th>\n",
       "    </tr>\n",
       "  </thead>\n",
       "  <tbody>\n",
       "    <tr>\n",
       "      <th>853</th>\n",
       "      <td>2016-0629-p</td>\n",
       "      <td>NaN</td>\n",
       "      <td>2016-09-26</td>\n",
       "      <td>NaN</td>\n",
       "      <td>DI-1</td>\n",
       "      <td>FOB - Field Operations Bureau</td>\n",
       "      <td>Unknown District/Division</td>\n",
       "      <td>Bourbon Promenade</td>\n",
       "      <td>Unknown Assignment</td>\n",
       "      <td>Unknown Working Status</td>\n",
       "      <td>...</td>\n",
       "      <td>PARAGRAPH 02 - FALSE OR INACCURATE REPORTS</td>\n",
       "      <td>35869.0</td>\n",
       "      <td>Black</td>\n",
       "      <td>Male</td>\n",
       "      <td>NaN</td>\n",
       "      <td>NaN</td>\n",
       "      <td>Male</td>\n",
       "      <td>Black</td>\n",
       "      <td>NaN</td>\n",
       "      <td>Pending</td>\n",
       "    </tr>\n",
       "  </tbody>\n",
       "</table>\n",
       "<p>1 rows × 22 columns</p>\n",
       "</div>"
      ],
      "text/plain": [
       "     tracking_id Date Complaint Occurred  \\\n",
       "853  2016-0629-p                     NaN   \n",
       "\n",
       "    Date Complaint Received by NOPD (PIB)  \\\n",
       "853                            2016-09-26   \n",
       "\n",
       "    Date Complaint Investigation Complete Complaint classification  \\\n",
       "853                                   NaN                     DI-1   \n",
       "\n",
       "             Bureau of Complainant    Division of Complainant  \\\n",
       "853  FOB - Field Operations Bureau  Unknown District/Division   \n",
       "\n",
       "    Unit of Complainant Unit Additional Details of Complainant  \\\n",
       "853   Bourbon Promenade                     Unknown Assignment   \n",
       "\n",
       "    Working Status of Complainant  ...  \\\n",
       "853        Unknown Working Status  ...   \n",
       "\n",
       "                            Paragraph Violation Unique Officer Allegation ID  \\\n",
       "853  PARAGRAPH 02 - FALSE OR INACCURATE REPORTS                      35869.0   \n",
       "\n",
       "    Officer Race Ethnicity  Officer Gender Officer Age  \\\n",
       "853                  Black            Male         NaN   \n",
       "\n",
       "    Officer years of service Complainant Gender  Complainant Ethnicity  \\\n",
       "853                      NaN               Male                  Black   \n",
       "\n",
       "    Complainant Age Disposition  \n",
       "853             NaN     Pending  \n",
       "\n",
       "[1 rows x 22 columns]"
      ]
     },
     "execution_count": 71,
     "metadata": {},
     "output_type": "execute_result"
    }
   ],
   "source": [
    "dfb = pd.read_csv(\"../data/input/data_nola_gov.csv\")\n",
    "\n",
    "dfb = dfb.rename(columns={\"Complaint Tracking Number\": \"tracking_id\"})\n",
    "\n",
    "dfb = dfb[['tracking_id' ,'Date Complaint Occurred',\n",
    "       'Date Complaint Received by NOPD (PIB)',\n",
    "       'Date Complaint Investigation Complete', 'Complaint classification', 'Bureau of Complainant',\n",
    "       'Division of Complainant', 'Unit of Complainant',\n",
    "       'Unit Additional Details of Complainant', \n",
    "       'Working Status of Complainant', 'Shift of Complainant',\n",
    "       'Rule Violation', 'Paragraph Violation', 'Unique Officer Allegation ID',\n",
    "       'Officer Race Ethnicity', 'Officer Gender', 'Officer Age',\n",
    "       'Officer years of service', 'Complainant Gender',\n",
    "       'Complainant Ethnicity', 'Complainant Age', \"Disposition\"]]\n",
    "\n",
    "dfb.loc[:, \"tracking_id\"] = dfb.tracking_id.str.lower().str.strip().str.replace(r\"\\s+\", \"\", regex=True)\n",
    "\n",
    "\n",
    "doubles_b = dfb[dfb.tracking_id.fillna(\"\").str.contains(\"2016-0629\")]\n",
    "\n",
    "doubles_b"
   ]
  },
  {
   "cell_type": "code",
   "execution_count": 72,
   "metadata": {},
   "outputs": [],
   "source": [
    "df = pd.merge(dfa, dfb, on=\"tracking_id\")\n",
    "\n",
    "df = df.drop_duplicates(subset=[\"allegation_number\"])"
   ]
  },
  {
   "cell_type": "code",
   "execution_count": 73,
   "metadata": {},
   "outputs": [],
   "source": [
    "# df.loc[:, \"allegation_desc\"] = df.allegation_desc.str.lower().str.strip()\n",
    "\n",
    "# df.loc[:, \"Disposition\"] = df[\"Disposition\"].str.lower().str.strip()"
   ]
  },
  {
   "cell_type": "code",
   "execution_count": 74,
   "metadata": {},
   "outputs": [],
   "source": [
    "# top_allegations = df['allegation'].value_counts().head(25)\n",
    "\n",
    "# # Create a horizontal bar chart\n",
    "# fig = px.bar(top_allegations, orientation='h', labels={'index': 'Allegation', 'value': 'Count'}, \n",
    "#              title='Top 25 Allegations')\n",
    "# fig.update_layout(\n",
    "#     xaxis_title=\"Count\",\n",
    "#     yaxis_title=\"Allegation\",\n",
    "#     yaxis={'categoryorder':'total ascending'},\n",
    "#     height=900  # Adjusted for better visibility with more categories\n",
    "# )\n",
    "# fig.update_yaxes(automargin=True, tickmode='array', tickvals=list(range(len(top_allegations))), ticktext=top_allegations.index)\n",
    "# fig.show()"
   ]
  },
  {
   "cell_type": "code",
   "execution_count": 75,
   "metadata": {},
   "outputs": [],
   "source": [
    "# df = df[~((df.allegation_desc == \"missing\"))]\n",
    "\n",
    "# # Top 25 allegation descriptions\n",
    "# top_allegation_desc = df['allegation_desc'].value_counts().head(25)\n",
    "# fig_desc = px.bar(top_allegation_desc, orientation='h', labels={'index': 'Allegation Description', 'value': 'Count'}, \n",
    "#                   title='Top 25 Allegation Descriptions')\n",
    "# fig_desc.update_layout(\n",
    "#     xaxis_title=\"Count\",\n",
    "#     yaxis_title=\"Allegation Description\",\n",
    "#     yaxis={'categoryorder':'total ascending'},\n",
    "#     height=800  # Increased height to accommodate more bars\n",
    "# )\n",
    "# fig_desc.update_yaxes(automargin=True, tickmode='array', tickvals=list(range(len(top_allegation_desc))), ticktext=top_allegation_desc.index)\n",
    "# fig_desc.show()"
   ]
  },
  {
   "cell_type": "code",
   "execution_count": 76,
   "metadata": {},
   "outputs": [],
   "source": [
    "df.loc[:, \"tag\"] = (df\n",
    "                    .allegation_desc\n",
    "                    .str.lower()\n",
    "                    .str.replace(r\"(.+)(domestic violence|domestic abuse|domestic battery)(.+)?\", \"domestic violence\", regex=True)\n",
    "                    .str.replace(r\"(.+)battery(.+)?\", \"battery\", regex=True)\n",
    "                    .str.replace(r\"(.+)?rape(.+)?\", \"rape\", regex=True)\n",
    "                    .str.replace(r\"(.+)sexual harassment(.+)?\", \"sexual harassment\", regex=True)\n",
    "                    .str.replace(r\"(.+)assault(.+)?\", \"assault\", regex=True)\n",
    "                    .str.replace(r\"(.+)body-? ?worn cameras?(.+)?\", \"body worn camera\", regex=True)\n",
    "                    .str.replace(r\"(.+)theft(.+)?\", \"theft\", regex=True)\n",
    "                    .str.replace(r\"(.+)stop(.+)?\", \"terry stop\", regex=True)\n",
    "                    .str.replace(r\"(.+)(authorized firearm|pr312 firearms|possession of a firearm)(.+)?\", \"firearms\")\n",
    "                    .str.replace(r\"(.+)(firearms training|firearms recertification)(.+)?\", \"firearms training\")\n",
    "                    .str.replace(r\"(.+)bias(.+)?\", \"biased based policing\", regex=True)\n",
    "                    .str.replace(r\"(.+)stalking(.+)?\", \"stalking\", regex=True)\n",
    "                    .str.replace(r\"(.+)(search & seizure|search and seizure)(.+)?\", \"search and seizure\", regex=True)\n",
    "                    .str.replace(r\"(.+)supervise(.+)?\", \"failure to supervise\", regex=True)\n",
    "                    .str.replace(r\"(.+)use of force(.+)?\", \"use of force\", regex=True)\n",
    "                    .str.replace(r\"(.+)?necessary police action(.+)?\", \"failure to take appropriate and necessary action\", regex=True)\n",
    "                    .str.replace(r\"(.+)?collect(.+)?\", \"failure to collect, preserve, and identify evidence\", regex=True)\n",
    "                    .str.replace(r\"(.+)?payroll(.+)?\", \"payroll fraud\", regex=True)\n",
    "                    .str.replace(r\"^\\'((.+)to cruelty to juveniles|(.+)relative to indecent behavior with juvenile|(.+)relative to indecent behavior with a juvenile|(.+)relative to molestation of a juvenile|(.+)cruelty to juveniles|(.+)?child abuse(.+)?)\", \"violence against juvenile\", regex=True)\n",
    ")\n",
    "\n",
    "\n",
    "df = df[~((df.tag.fillna(\"\") == \"\"))]"
   ]
  },
  {
   "cell_type": "code",
   "execution_count": 77,
   "metadata": {},
   "outputs": [
    {
     "data": {
      "text/plain": [
       "(70, 33)"
      ]
     },
     "execution_count": 77,
     "metadata": {},
     "output_type": "execute_result"
    }
   ],
   "source": [
    "\n",
    "# dv_df = df[df.tag.str.contains(\"domestic violence|battery|rape|assault|violence against juvenile\")]\n",
    "\n",
    "dv_df = df[df.tag.str.contains(\"battery\")]\n",
    "\n",
    "# dv_df = dv_df[dv_df.year.astype(str).str.contains(\"2022\")]\n",
    "\n",
    "dv_df.shape\n",
    "# dv_df"
   ]
  },
  {
   "cell_type": "code",
   "execution_count": 78,
   "metadata": {},
   "outputs": [],
   "source": [
    "\n",
    "# # Group by year and count the occurrences\n",
    "# yearly_counts = dv_df.groupby('year').size().reset_index(name='Count')\n",
    "\n",
    "# # Create a line graph\n",
    "# fig = px.line(yearly_counts, x='year', y='Count', title='Domestic Violence Complaints per Year', markers=True)\n",
    "# fig.update_traces(textposition='top center')\n",
    "# fig.show()"
   ]
  },
  {
   "cell_type": "code",
   "execution_count": 79,
   "metadata": {},
   "outputs": [],
   "source": [
    "# # # Count occurrences of each disposition\n",
    "# # disposition_counts = dv_df['Disposition'].value_counts().reset_index()\n",
    "# # disposition_counts.columns = ['Disposition', 'Count']\n",
    "\n",
    "# # # Create a bar chart\n",
    "# # fig = px.bar(disposition_counts, x='Disposition', y='Count', title='Disposition of Domestic Violence Complaints')\n",
    "# # fig.show()\n",
    "\n",
    "# # Count occurrences of each disposition by year\n",
    "# disposition_counts = dv_df.groupby(['year', 'Disposition']).size().reset_index(name='Count')\n",
    "\n",
    "# # Calculate the total count of dispositions for each year\n",
    "# total_counts = disposition_counts.groupby('year')['Count'].transform('sum')\n",
    "\n",
    "# # Calculate the proportion of each disposition for each year\n",
    "# disposition_counts['Proportion'] = disposition_counts['Count'] / total_counts\n",
    "\n",
    "# # Create a stacked bar chart\n",
    "# fig = px.bar(disposition_counts, x='year', y='Proportion', color='Disposition',\n",
    "#              title='Proportions of Dispositions by Year')\n",
    "# fig.show()"
   ]
  },
  {
   "cell_type": "code",
   "execution_count": 80,
   "metadata": {},
   "outputs": [],
   "source": [
    "# # Count occurrences of each incident type for domestic violence complaints\n",
    "# incident_type_counts = dv_df[\"'Incident Type\"].value_counts().reset_index()\n",
    "# incident_type_counts.columns = [\"'Incident Type\", 'Count']\n",
    "\n",
    "# # Create a bar chart for Incident Type\n",
    "# fig = px.bar(incident_type_counts, x=\"'Incident Type\", y='Count', title='Incident Types for Domestic Violence Complaints')\n",
    "# fig.show()"
   ]
  },
  {
   "cell_type": "code",
   "execution_count": 81,
   "metadata": {},
   "outputs": [],
   "source": [
    "# public_initiated_dv_df = df[(df['tag'] == 'domestic violence') & (df[\"'Incident Type\"] == \"'Rank Initiated\")]\n",
    "\n",
    "# # Count occurrences of each disposition for domestic violence 'Public Initiated' incident types\n",
    "# disposition_counts = public_initiated_dv_df['Disposition'].value_counts().reset_index()\n",
    "# disposition_counts.columns = ['Disposition', 'Count']\n",
    "\n",
    "# # Create a bar chart for Disposition counts of Public Initiated Domestic Violence Incidents\n",
    "# fig = px.bar(disposition_counts, x='Disposition', y='Count', title='Disposition Counts for \"Public Initiated\" Domestic Violence Incidents')\n",
    "# fig.show()"
   ]
  },
  {
   "cell_type": "code",
   "execution_count": 82,
   "metadata": {},
   "outputs": [],
   "source": [
    "# # Count occurrences of each disposition for domestic violence 'Public Initiated' incident types\n",
    "# disposition_counts_dv = public_initiated_dv_df['Disposition'].value_counts()\n",
    "\n",
    "# # Calculate the proportion of 'Sustained' dispositions\n",
    "# total_public_initiated_dv = disposition_counts_dv.sum()  # Total number of Public Initiated DV incidents\n",
    "# sustained_count_dv = disposition_counts_dv.get('sustained', 0)  # Number of Sustained dispositions\n",
    "# sustained_proportion_dv = sustained_count_dv / total_public_initiated_dv if total_public_initiated_dv > 0 else 0\n",
    "\n",
    "# # Output for comparison\n",
    "# sustained_proportion_dv"
   ]
  },
  {
   "cell_type": "code",
   "execution_count": 83,
   "metadata": {},
   "outputs": [],
   "source": [
    "# public_initiated_df = df[df[\"'Incident Type\"] == \"'Public Initiated\"]\n",
    "\n",
    "# # Count occurrences of each disposition for 'Public Initiated' incident types\n",
    "# disposition_counts = public_initiated_df['Disposition'].value_counts()\n",
    "\n",
    "# # Calculate the proportion of 'Sustained' dispositions\n",
    "# total_public_initiated = disposition_counts.sum()  # Total number of Public Initiated incidents\n",
    "# sustained_count = disposition_counts.get('sustained', 0)  # Number of Sustained dispositions\n",
    "# sustained_proportion = sustained_count / total_public_initiated if total_public_initiated > 0 else 0\n",
    "\n",
    "# # Print the proportion of 'Sustained' dispositions\n",
    "# sustained_proportion"
   ]
  },
  {
   "cell_type": "code",
   "execution_count": 84,
   "metadata": {},
   "outputs": [],
   "source": [
    "# # Filter rows for domestic violence\n",
    "# evidence_df = df[df['tag'] == 'failure to collect, preserve, and identify evidence']\n",
    "\n",
    "# # Group by year and count the occurrences\n",
    "# yearly_counts = evidence_df.groupby('year').size().reset_index(name='Count')\n",
    "\n",
    "# # Create a line graph\n",
    "# fig = px.line(yearly_counts, x='year', y='Count', title='Evidence Complaints per Year', markers=True)\n",
    "# fig.update_traces(textposition='top center')\n",
    "# fig.show()"
   ]
  },
  {
   "cell_type": "code",
   "execution_count": 85,
   "metadata": {},
   "outputs": [],
   "source": [
    "# # Count occurrences of each disposition\n",
    "# disposition_counts = evidence_df['Disposition'].value_counts().reset_index()\n",
    "# disposition_counts.columns = ['Disposition', 'Count']\n",
    "# # \n",
    "# # Create a bar chart\n",
    "# fig = px.bar(disposition_counts, x='Disposition', y='Count', title='Disposition of Evidence Complaints')\n",
    "# fig.show()"
   ]
  },
  {
   "cell_type": "code",
   "execution_count": 86,
   "metadata": {},
   "outputs": [],
   "source": [
    "# # Count occurrences of each incident type for domestic violence complaints\n",
    "# incident_type_counts = evidence_df[\"'Incident Type\"].value_counts().reset_index()\n",
    "# incident_type_counts.columns = [\"'Incident Type\", 'Count']\n",
    "\n",
    "# # Create a bar chart for Incident Type\n",
    "# fig = px.bar(incident_type_counts, x=\"'Incident Type\", y='Count', title='Complainant Types for Evidence Complaints')\n",
    "# fig.show()"
   ]
  },
  {
   "cell_type": "code",
   "execution_count": 87,
   "metadata": {},
   "outputs": [],
   "source": [
    "# evidence_type_df = df[(df['tag'] == 'failure to collect, preserve, and identify evidence') & (df[\"'Incident Type\"] == \"'Public Initiated\")]\n",
    "\n",
    "# # Count occurrences of each disposition for domestic violence 'Public Initiated' incident types\n",
    "# disposition_counts = evidence_type_df['Disposition'].value_counts().reset_index()\n",
    "# disposition_counts.columns = ['Disposition', 'Count']\n",
    "\n",
    "# # Create a bar chart for Disposition counts of Public Initiated Domestic Violence Incidents\n",
    "# fig = px.bar(disposition_counts, x='Disposition', y='Count', title='Disposition Counts for \"Public Initiated\" Evidence Complaints')\n",
    "# fig.show()"
   ]
  },
  {
   "cell_type": "code",
   "execution_count": 88,
   "metadata": {},
   "outputs": [],
   "source": [
    "# evidence_type_df = df[(df['tag'] == 'failure to collect, preserve, and identify evidence') & (df[\"'Incident Type\"] == \"'Public Initiated\")]\n",
    "\n",
    "# # Count occurrences of each disposition for domestic violence 'Public Initiated' incident types\n",
    "# disposition_counts = evidence_type_df['Disposition'].value_counts().reset_index()\n",
    "# disposition_counts.columns = ['Disposition', 'Count']\n",
    "\n",
    "# # Create a bar chart for Disposition counts of Public Initiated Domestic Violence Incidents\n",
    "# fig = px.bar(disposition_counts, x='Disposition', y='Count', title='Disposition Counts for \"Rank Initiated\" Evidence Complaints')\n",
    "# fig.show()"
   ]
  },
  {
   "cell_type": "code",
   "execution_count": 89,
   "metadata": {},
   "outputs": [],
   "source": [
    "# # Count occurrences of each disposition for domestic violence 'Public Initiated' incident types\n",
    "# disposition_counts_dv = evidence_type_df['Disposition'].value_counts()\n",
    "\n",
    "# # Calculate the proportion of 'Sustained' dispositions\n",
    "# total_public_initiated_dv = disposition_counts_dv.sum()  # Total number of Public Initiated DV incidents\n",
    "# sustained_count_dv = disposition_counts_dv.get('sustained', 0)  # Number of Sustained dispositions\n",
    "# sustained_proportion_dv = sustained_count_dv / total_public_initiated_dv if total_public_initiated_dv > 0 else 0\n",
    "\n",
    "# # Output for comparison\n",
    "# sustained_proportion_dv"
   ]
  }
 ],
 "metadata": {
  "kernelspec": {
   "display_name": "Python 3",
   "language": "python",
   "name": "python3"
  },
  "language_info": {
   "codemirror_mode": {
    "name": "ipython",
    "version": 3
   },
   "file_extension": ".py",
   "mimetype": "text/x-python",
   "name": "python",
   "nbconvert_exporter": "python",
   "pygments_lexer": "ipython3",
   "version": "3.11.7"
  }
 },
 "nbformat": 4,
 "nbformat_minor": 2
}
