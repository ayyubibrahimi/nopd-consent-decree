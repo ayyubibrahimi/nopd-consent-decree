{
 "cells": [
  {
   "cell_type": "code",
   "execution_count": 65,
   "metadata": {},
   "outputs": [],
   "source": [
    "import os\n",
    "import pandas as pd\n",
    "from sklearn.model_selection import train_test_split\n",
    "from tensorflow.keras.preprocessing.text import Tokenizer\n",
    "from tensorflow.keras.preprocessing.sequence import pad_sequences\n",
    "import numpy as np\n",
    "import tensorflow as tf\n",
    "from tensorflow.keras.models import Sequential\n",
    "from tensorflow.keras.layers import Embedding, Dense, LSTM, GlobalMaxPooling1D\n",
    "from sklearn.metrics import classification_report"
   ]
  },
  {
   "cell_type": "code",
   "execution_count": 66,
   "metadata": {},
   "outputs": [],
   "source": [
    "def read_tbl(file_path):\n",
    "    df = pd.read_csv(file_path)\n",
    "    return df\n",
    "\n",
    "def process_csv_files(directory_path):\n",
    "    domestic_df = pd.DataFrame()\n",
    "    non_domestic_df = pd.DataFrame()\n",
    "\n",
    "    for file_name in os.listdir(directory_path):\n",
    "        if file_name.endswith('.csv'):\n",
    "            file_path = os.path.join(directory_path, file_name)\n",
    "            df = read_tbl(file_path)\n",
    "\n",
    "            df = df[~((df.gist.fillna(\"\") == \"\"))]\n",
    "            \n",
    "            domestic_target_df = df[df.gist.fillna(\"\").str.contains(\"domestic\", case=False)]\n",
    "            domestic_target_df = domestic_target_df[[\"gist\"]]\n",
    "            domestic_target_df[\"label\"] = \"1\"\n",
    "            \n",
    "            non_domestic_target_df = df[~df.gist.fillna(\"\").str.contains(\"domestic\", case=False)]\n",
    "            non_domestic_target_df = non_domestic_target_df[[\"gist\"]]\n",
    "            non_domestic_target_df[\"label\"] = \"0\"\n",
    "            \n",
    "            domestic_df = pd.concat([domestic_df, domestic_target_df], ignore_index=True)\n",
    "            non_domestic_df = pd.concat([non_domestic_df, non_domestic_target_df], ignore_index=True)\n",
    "    \n",
    "    return domestic_df, non_domestic_df\n",
    "\n",
    "def take_random_sample(df, sample_size):\n",
    "    if len(df) > sample_size:\n",
    "        return df.sample(sample_size)\n",
    "    else:\n",
    "        return df\n",
    "\n",
    "directory_path = \"../../ner/data/output/\"\n",
    "\n",
    "domestic_df, non_domestic_df = process_csv_files(directory_path)\n",
    "\n",
    "sampled_domestic_df = take_random_sample(domestic_df, 150)\n",
    "sampled_non_domestic_df = take_random_sample(non_domestic_df, 150)\n",
    "\n",
    "final_df = pd.concat([sampled_domestic_df, sampled_non_domestic_df], ignore_index=True)\n",
    "\n",
    "final_df.to_csv(\"../data/output/labeled_data.csv\", index=False)"
   ]
  }
 ],
 "metadata": {
  "kernelspec": {
   "display_name": "Python 3",
   "language": "python",
   "name": "python3"
  },
  "language_info": {
   "codemirror_mode": {
    "name": "ipython",
    "version": 3
   },
   "file_extension": ".py",
   "mimetype": "text/x-python",
   "name": "python",
   "nbconvert_exporter": "python",
   "pygments_lexer": "ipython3",
   "version": "3.11.7"
  }
 },
 "nbformat": 4,
 "nbformat_minor": 2
}
