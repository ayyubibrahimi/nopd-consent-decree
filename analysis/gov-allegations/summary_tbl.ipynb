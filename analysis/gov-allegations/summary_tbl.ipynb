{
 "cells": [
  {
   "cell_type": "code",
   "execution_count": 19,
   "metadata": {},
   "outputs": [],
   "source": [
    "import pandas as pd\n",
    "\n",
    "def read_final_gist_tbl():\n",
    "    df = pd.read_csv(\"data/output/final_gist_for_summary_table.csv\")\n",
    "    return df\n",
    "\n",
    "\n",
    "\n",
    "def read_gist_tbl():\n",
    "    df = pd.read_csv(\"../gist/data/output/labeled_gists.csv\")\n",
    "    return df \n",
    "\n",
    "dfa = read_final_gist_tbl()\n",
    "\n",
    "dfa_ids = [n for n in dfa[\"tracking_id\"]]\n",
    "\n",
    "dfb = read_gist_tbl()\n",
    "\n",
    "dfc = dfb[dfb.tracking_id.isin(dfa_ids)]\n",
    "\n",
    "dfc = dfc[[\"tracking_id\", \"gist\"]]\n",
    "\n",
    "final_df = pd.merge(dfc, dfa, how=\"left\", on =\"tracking_id\")\n",
    "\n",
    "final_df = final_df[[\"gist\", \"allegation\", \"allegation_desc\"]]\n",
    "\n",
    "grouped_df = final_df.groupby('gist').agg({\n",
    "    'allegation': lambda x: ' | '.join(x),\n",
    "    'allegation_desc': lambda x: ' | '.join(x)\n",
    "}).reset_index()\n",
    "\n",
    "grouped_df.to_csv(\"review.csv\", index=False)"
   ]
  }
 ],
 "metadata": {
  "kernelspec": {
   "display_name": "Python 3",
   "language": "python",
   "name": "python3"
  },
  "language_info": {
   "codemirror_mode": {
    "name": "ipython",
    "version": 3
   },
   "file_extension": ".py",
   "mimetype": "text/x-python",
   "name": "python",
   "nbconvert_exporter": "python",
   "pygments_lexer": "ipython3",
   "version": "3.11.7"
  }
 },
 "nbformat": 4,
 "nbformat_minor": 2
}
