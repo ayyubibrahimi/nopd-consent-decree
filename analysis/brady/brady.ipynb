{
 "cells": [
  {
   "cell_type": "code",
   "execution_count": 54,
   "metadata": {},
   "outputs": [],
   "source": [
    "import pandas as pd\n",
    "import plotly.express as px\n",
    "import plotly.graph_objects as go\n",
    "from helper import clean_column_names\n",
    "import networkx as nx"
   ]
  },
  {
   "cell_type": "code",
   "execution_count": 55,
   "metadata": {},
   "outputs": [],
   "source": [
    "def clean_brady_table(df):\n",
    "    df.columns = [col.lstrip('\\'') for col in df.columns]\n",
    "\n",
    "    df = df.applymap(lambda x: x.lstrip('\\'') if isinstance(x, str) else x)\n",
    "    \n",
    "    df = df.applymap(lambda x: x.lower().strip() if isinstance(x, str) else x)\n",
    "\n",
    "\n",
    "    df.loc[:, \"last_name\"] = (df.last_name\n",
    "                              .str.replace(r\"\\'RULE(.+)\", \"\", regex=True)\n",
    "                              .str.replace(r\"^\\'$\", \"\", regex=True)\n",
    "    )\n",
    "\n",
    "    df = df[~((df.last_name.fillna(\"\") == \"\"))]\n",
    "\n",
    "    df.loc[:, \"tracking_id\"] = (df.tracking_id\n",
    "                                .str\n",
    "                                .lower()\n",
    "                                .str.strip()\n",
    "                                .str.replace(r\"\\s+\", \"\", regex=True)\n",
    "                                .str.replace(r\"\\'\", \"\", regex=True)\n",
    "    )\n",
    "\n",
    "    df.loc[:, \"allegation\"] = (df.allegation_rule\n",
    "                               .str.cat(df.allegation_paragraph, sep=\" \")\n",
    "    )\n",
    "\n",
    "    df.loc[:, \"allegation\"] = (df.allegation\n",
    "                               .str.lower()\n",
    "                               .str.strip()\n",
    "                               .str.replace(r\"\\'\", \"\", regex=True)\n",
    "    )\n",
    "\n",
    "    df = df.drop(columns=[\"allegation_rule\", \"allegation_paragraph\"])\n",
    "\n",
    "    df.loc[:, \"allegation_desc\"] = (df.allegation_desc.str\n",
    "                                    .lower()\n",
    "                                    .str.strip()\n",
    "                                    .str.replace(r\"\\'$\", \"\", regex=True)\n",
    "                                    .str.replace(r\"^$\", \"missing\", regex=True)\n",
    "    )\n",
    "    return df "
   ]
  },
  {
   "cell_type": "code",
   "execution_count": 56,
   "metadata": {},
   "outputs": [
    {
     "name": "stderr",
     "output_type": "stream",
     "text": [
      "/var/folders/4r/jhc99db14v58mjmncgtry0kc0000gn/T/ipykernel_3953/4215433165.py:4: FutureWarning:\n",
      "\n",
      "DataFrame.applymap has been deprecated. Use DataFrame.map instead.\n",
      "\n",
      "/var/folders/4r/jhc99db14v58mjmncgtry0kc0000gn/T/ipykernel_3953/4215433165.py:6: FutureWarning:\n",
      "\n",
      "DataFrame.applymap has been deprecated. Use DataFrame.map instead.\n",
      "\n"
     ]
    },
    {
     "data": {
      "text/plain": [
       "array(['mississippi code title 97-3- 7 (3) domestic violence (simple assault)',\n",
       "       'nopd policy: chapter 42.4 - domestic violence; paragraph 19',\n",
       "       'nopd policy: chapter 42.4 - domestic violence',\n",
       "       'nopd policy: chapter 42.4 domestic violence',\n",
       "       'nopd policy: chapter 42.4 - domestic violence; paragraph 12',\n",
       "       'nopd chapter: policy 42.4, domestic violence arrest procedures, paragraph 12',\n",
       "       'r.s. 14:35.3 relative to domestic abuse battery',\n",
       "       '(c) 6: failing to comply with instructions, oral, or written, for any authoritative source, to wit chapter 42.4, domestic violence, interview the parties and witnesses, paragraph 14(c)',\n",
       "       'nopd policy: chapter 42.4 - domestic violence; paragraph 82: reports',\n",
       "       'nopd policy: chapter 42.4 - domestic violence; paragraph 95',\n",
       "       'nopd policy: chapter 42.4 - domestic violence; paragraph 14',\n",
       "       'nopd policy: chapter 42.4.1 domestic disturbance',\n",
       "       'nopd policy: chapter 42.4.1 domestic disturbance; paragraph 3',\n",
       "       'nopd policy: chapter 42.4 - domestic violence; paragraph 16',\n",
       "       'r.s 14:37.7 relative to domestic abuse assault',\n",
       "       'r.s. 14:37.7 domestic abuse aggravated assault',\n",
       "       'nopd policy: chapter 42.4.1 domestic disturbance; paragraph 14',\n",
       "       'nopd policy: chapter 42.4 - domestic violence: paragraph 16',\n",
       "       'nopd policy: chapter 42.4 - domestic violence arrest procedures, paragraph 7',\n",
       "       'nopd policy: chapter 42.4 - domestic violence, paragraph 68',\n",
       "       'nopd policy: chapter 42.4.1 domestic disturbance; paragraph 11',\n",
       "       'nopd policy: chapter 42.4 - domestic violence, paragraph 8 (a)',\n",
       "       'nopd policy: chapter 42.4 - domestic violence; paragraph 66',\n",
       "       'nopd policy: chapter 42.4 - domestic violence; paragraph 68',\n",
       "       'r.s. 14:37.7 (d)relative to domestic abuse aggravated assault',\n",
       "       'r.s. 14:35.3 (i) relative to domestic abuse battery- child endangerment',\n",
       "       'nopd policy: chapter 42.4 - domestic violence: paragraph 77 a',\n",
       "       'nopd policy: chapter 42.4 - domestic violence: paragraph 77 b',\n",
       "       'paragraph c: subparagraph 6 - failing to comply with instructions, oral or written, from any authoritative source. 42.4 domestic violence',\n",
       "       'nopd policy: chapter 42.4 - domestic violence; paragraph 15: conduct investigation',\n",
       "       'nopd policy: chapter 42.4 - domestic violence; paragraph 15i',\n",
       "       'nopd policy: chapter 42.4 - domestic violence; paragraph 13',\n",
       "       'nopd policy: chapter 42.4 - domestic violence; paragraph 24',\n",
       "       'nopd policy: chapter 42.4 - domestic violence; paragraph 13a',\n",
       "       'nopd policy: chapter 42.4 - domestic violence arrest procedures, paragraph 8(a)',\n",
       "       'nopd policy: chapter 42.4 - domestic violence, paragraph 15',\n",
       "       'nopd policy: chapter 42.4 - domestic violence; paragraph 18',\n",
       "       'paragraph c: subparagraph 6 failing to comply with instructions, oral or written, from any authoritative source; chapter 42.4 domestic violence, reports',\n",
       "       'paragraph c: subparagraph 6 failing to comply with instructions, oral or written, from any authoritative source; chapter 42.4 domestic violence, supervisor responsibilities',\n",
       "       'nopd chapter: policy 42.4, domestic violence, sec. 46, verifying protection orders',\n",
       "       'nopd policy: chapter 42.4 - domestic violence; paragraph 34',\n",
       "       'nopd policy: chapter 42.4 - domestic violence; paragraph 29',\n",
       "       'nopd policy: chapter 42.4 - domestic violence; paragraph 44',\n",
       "       'nopd policy: chapter 42.4 - domestic violence; paragraph 19: conduct risk assement',\n",
       "       'nopd policy: chapter 42.4 - domestic violence; paragraph 83',\n",
       "       'nopd policy: chapter 42.4 - domestic violence; paragraph 17',\n",
       "       'nopd policy: chapter 42.4 - domestic violence; paragraph 22',\n",
       "       'paragraph c: subparagraph 6 - failing to comply with instructions, oral or written, from any authoritative source 42.2 domestic violence, sub section 95',\n",
       "       'nopd policy: chapter 42.4 - domestic violence; paragraph 28, arrest decision',\n",
       "       'nopd policy: chapter 42.4 - domestic violence; paragraph 28: arrest decision',\n",
       "       'nopd policy: chapter 42.4 - domestic violence, paragraph 15 conduct investigation',\n",
       "       'nopd policy: chapter 42.4 - domestic violence; paragraph 96',\n",
       "       'paragraph c: subparagraph 6 failing to comply with instructions, oral or written, from any authoritative source. nopd chapter 42.4 (91) domestic violence',\n",
       "       'paragraph c: subparagraph 6 - failing to comply with instructions, oral or written, from any authoritative source nopd chapter 42.4(91) domestic vio;lence',\n",
       "       'nopd policy: chapter 42.4 - domestic violence; paragraph 12, subsection j',\n",
       "       'nopd policy: chapter 42.4 - domestic violence, paragraph 19 conduct risk assessment',\n",
       "       'nopd pollicy: chapter 42.4 domestic violance, paragraph 97',\n",
       "       'nopd policy: chapter 42.4 - domestic violence, paragraph 95',\n",
       "       'paragraph c: subparagraph 6 - failing to comply with instructions, oral or written, from any authoritative source to wit nopd chapter 42.4 domestic violence paragraph 82',\n",
       "       'nopd policy: chapter 42.4 - domestic violence; paragraph 91',\n",
       "       'r.s. 14:103 relative to disturbing the peace ( domestic)',\n",
       "       'paragraph c: subparagraph sustained 6 - failing to comply with instructions, oral or written, from any authoritative source to wit nopd chapter 42.4 domestic violence paragraph 96',\n",
       "       'nopd policy: chapter 42.4 - sustained domestic violence',\n",
       "       'nopd policy: chapter 42.4 - sustained domestic violence; paragraph 91',\n",
       "       'nopd policy: chapter 42.4 - sustained domestic violence, paragraph 96',\n",
       "       'nopd policy: chapter 42.4 - sustained domestic violence; paragraph 96',\n",
       "       'paragraph c: subparagraph negotiated 6 - failing to comply with settlement instructions, oral or written, from any authoritative source 42.4 domestic violance, para (82)',\n",
       "       'nopd policy: chapter 42.4 - domestic violence; paragraph 18: interview parties and witnesses',\n",
       "       'nopd policy: chapter 42.4 - sustained domestic violence; paragraph 82: reports',\n",
       "       'nopd policy: chapter 42.4 - exonerated domestic violence; paragraph 82: reports',\n",
       "       'paragraph c: subparagraph sustained 6 - failing to comply with instructions, oral or written, from any authoritative source to wit nopd chapter 42.4 domestic violence reports paragraph 82',\n",
       "       'paragraph c: subparagraph sustained 6 - failing to comply with instructions, oral or written, from any authoritative source to wit nopd chapter 42.4 domestic violence paragraph 18',\n",
       "       'nopd policy: chapter 42.4 - domestic violence; paragraph 24 strangulation',\n",
       "       'kenner ordinance 1427 sec 7-73 relative to aggravated assault involving domestic violence',\n",
       "       'paragraph c: subparagraph 6 failing to comply with instructions, oral or written, from any authoritative source to wit nopd chapter 42.4 domestic violence reports paragraph 82',\n",
       "       'paragraph c: subparagraph 6 failing to comply with instructions, oral or written, from any authoritative sourceto wit nopd chapter 42.4 domestic violence paragraph 91',\n",
       "       'paragraph c: subparagraph 6 failing to comply with instructions, oral or written, from any authoritative source to wit nopd chapter 42.4 domestic violence paragraph 91',\n",
       "       'nopd policy: chapter 42.4 - domestic violence; paragraph 24: strangulation',\n",
       "       'nopd policy: chapter 42.4 - domestic violence; paragraph 17: prepare to interview the parties and witnesses',\n",
       "       'nopd policy: chapter 42.4 - domestic violence, paragraph 96',\n",
       "       'nopd chapter: policy 42.4, domestic violence arrest procedures',\n",
       "       'nopd policy: chapter 42.4 - domestic violence; paragraph 12, subsection 6',\n",
       "       'nopd policy: chapter 42.4 - domestic violence; paragraph 12, subsection 1',\n",
       "       'nopd policy: chapter 42.4 - domestic violence; paragraph 97: supervisor scene oversight',\n",
       "       'nopd policy: chapter 42.4 - domestic violence; paragraph 98: supervisor scene oversight',\n",
       "       'nopd policy: chapter 42.4 - domestic violence; investigations paragraph 12, subsection (a), (j)',\n",
       "       'nopd policy: chapter 42.4 - redirection domestic violence; paragraph 96',\n",
       "       'nopd policy: chapter 42.4 - sustained domestic violence, paragraph 82',\n",
       "       'nopd policy: chapter 42.4 - sustained domestic violence, paragraph 91',\n",
       "       'nopd policy: chapter 42.4 - cancelled domestic violence; paragraph 96',\n",
       "       'nopd chapter: policy 42.4, sustained domestic violence arrest procedures',\n",
       "       'r.s. 14:35 domestic abuse battery',\n",
       "       'nopd policy: chapter 42.4 - sustained domestic violence; paragraph 14',\n",
       "       'nopd policy: chapter 42.4 - sustained domestic violence; paragraph 14 (g)',\n",
       "       'nopd policy: chapter 42.4 - domestic violence; paragraph 10',\n",
       "       'paragraph c: subparagraph 6 failing to comply with instructions, oral or written, from any authoritative source to wit nopd chapter 42.4 domestic violaence paragraph 16(a)',\n",
       "       'paragraph c: subparagraph 6 failing to comply with instructions, oral or written, from any authoritative source to wit nopd chapter 42.4 domestic violence paragraph 22(b)(d)',\n",
       "       'nopd policy: chapter 42.4 - domestic violence; paragraph 98',\n",
       "       'nopd policy: chapter 42.4 - domestic violence; paragraph 86'],\n",
       "      dtype=object)"
      ]
     },
     "execution_count": 56,
     "metadata": {},
     "output_type": "execute_result"
    }
   ],
   "source": [
    "def read_brady_tbl():\n",
    "    df = pd.read_csv(\"data/input/brady_2016_2023.csv\")\n",
    "    return df \n",
    "\n",
    "df = read_brady_tbl()\n",
    "df = df.pipe(clean_brady_table).pipe(clean_column_names)\n",
    "\n",
    "\n",
    "review = df[df.allegation_desc.str.lower().str.contains(\"domestic\")]\n",
    "\n",
    "review.allegation_desc.unique()"
   ]
  },
  {
   "cell_type": "code",
   "execution_count": 57,
   "metadata": {},
   "outputs": [
    {
     "data": {
      "text/plain": [
       "year\n",
       "2016    1730\n",
       "2019    1413\n",
       "2021    1391\n",
       "2017    1375\n",
       "2020    1264\n",
       "2018    1254\n",
       "2023    1173\n",
       "2022     901\n",
       "Name: count, dtype: int64"
      ]
     },
     "execution_count": 57,
     "metadata": {},
     "output_type": "execute_result"
    }
   ],
   "source": [
    "df.year.value_counts()"
   ]
  },
  {
   "cell_type": "code",
   "execution_count": 58,
   "metadata": {},
   "outputs": [],
   "source": [
    "dv_df = df[df.allegation_desc.fillna(\"\").str.contains(\"domestic\")]"
   ]
  },
  {
   "cell_type": "code",
   "execution_count": 59,
   "metadata": {},
   "outputs": [
    {
     "name": "stderr",
     "output_type": "stream",
     "text": [
      "/var/folders/4r/jhc99db14v58mjmncgtry0kc0000gn/T/ipykernel_3953/2243688141.py:1: UserWarning:\n",
      "\n",
      "This pattern is interpreted as a regular expression, and has match groups. To actually get the groups, use str.extract.\n",
      "\n"
     ]
    },
    {
     "data": {
      "text/plain": [
       "array(['nopd policy: chapter 42.4 - domestic violence; paragraph 19',\n",
       "       'nopd policy: chapter 42.4 - domestic violence',\n",
       "       'nopd policy: chapter 42.4 domestic violence',\n",
       "       'nopd policy: chapter 42.4 - domestic violence; paragraph 12',\n",
       "       'nopd chapter: policy 42.4, domestic violence arrest procedures, paragraph 12',\n",
       "       '(c) 6: failing to comply with instructions, oral, or written, for any authoritative source, to wit chapter 42.4, domestic violence, interview the parties and witnesses, paragraph 14(c)',\n",
       "       'nopd policy: chapter 42.4 - domestic violence; paragraph 82: reports',\n",
       "       'nopd policy: chapter 42.4 - domestic violence; paragraph 95',\n",
       "       'nopd policy: chapter 42.4 - domestic violence; paragraph 14',\n",
       "       'nopd policy: chapter 42.4.1 domestic disturbance',\n",
       "       'nopd policy: chapter 42.4.1 domestic disturbance; paragraph 3',\n",
       "       'nopd policy: chapter 42.4 - domestic violence; paragraph 16',\n",
       "       'nopd policy: chapter 42.4.1 domestic disturbance; paragraph 14',\n",
       "       'nopd policy: chapter 42.4 - domestic violence: paragraph 16',\n",
       "       'nopd policy: chapter 42.4 - domestic violence arrest procedures, paragraph 7',\n",
       "       'nopd policy: chapter 42.4 - domestic violence, paragraph 68',\n",
       "       'nopd policy: chapter 42.4.1 domestic disturbance; paragraph 11',\n",
       "       'nopd policy: chapter 42.4 - domestic violence, paragraph 8 (a)',\n",
       "       'nopd policy: chapter 42.4 - domestic violence; paragraph 66',\n",
       "       'nopd policy: chapter 42.4 - domestic violence; paragraph 68',\n",
       "       'nopd policy: chapter 42.4 - domestic violence: paragraph 77 a',\n",
       "       'nopd policy: chapter 42.4 - domestic violence: paragraph 77 b',\n",
       "       'paragraph c: subparagraph 6 - failing to comply with instructions, oral or written, from any authoritative source. 42.4 domestic violence',\n",
       "       'nopd policy: chapter 42.4 - domestic violence; paragraph 15: conduct investigation',\n",
       "       'nopd policy: chapter 42.4 - domestic violence; paragraph 15i',\n",
       "       'nopd policy: chapter 42.4 - domestic violence; paragraph 13',\n",
       "       'nopd policy: chapter 42.4 - domestic violence; paragraph 24',\n",
       "       'nopd policy: chapter 42.4 - domestic violence; paragraph 13a',\n",
       "       'nopd policy: chapter 42.4 - domestic violence arrest procedures, paragraph 8(a)',\n",
       "       'nopd policy: chapter 42.4 - domestic violence, paragraph 15',\n",
       "       'nopd policy: chapter 42.4 - domestic violence; paragraph 18',\n",
       "       'paragraph c: subparagraph 6 failing to comply with instructions, oral or written, from any authoritative source; chapter 42.4 domestic violence, reports',\n",
       "       'paragraph c: subparagraph 6 failing to comply with instructions, oral or written, from any authoritative source; chapter 42.4 domestic violence, supervisor responsibilities',\n",
       "       'nopd chapter: policy 42.4, domestic violence, sec. 46, verifying protection orders',\n",
       "       'nopd policy: chapter 42.4 - domestic violence; paragraph 34',\n",
       "       'nopd policy: chapter 42.4 - domestic violence; paragraph 29',\n",
       "       'nopd policy: chapter 42.4 - domestic violence; paragraph 44',\n",
       "       'nopd policy: chapter 42.4 - domestic violence; paragraph 19: conduct risk assement',\n",
       "       'nopd policy: chapter 42.4 - domestic violence; paragraph 83',\n",
       "       'nopd policy: chapter 42.4 - domestic violence; paragraph 17',\n",
       "       'nopd policy: chapter 42.4 - domestic violence; paragraph 22',\n",
       "       'paragraph c: subparagraph 6 - failing to comply with instructions, oral or written, from any authoritative source 42.2 domestic violence, sub section 95',\n",
       "       'nopd policy: chapter 42.4 - domestic violence; paragraph 28, arrest decision',\n",
       "       'nopd policy: chapter 42.4 - domestic violence; paragraph 28: arrest decision',\n",
       "       'nopd policy: chapter 42.4 - domestic violence, paragraph 15 conduct investigation',\n",
       "       'nopd policy: chapter 42.4 - domestic violence; paragraph 96',\n",
       "       'paragraph c: subparagraph 6 failing to comply with instructions, oral or written, from any authoritative source. nopd chapter 42.4 (91) domestic violence',\n",
       "       'paragraph c: subparagraph 6 - failing to comply with instructions, oral or written, from any authoritative source nopd chapter 42.4(91) domestic vio;lence',\n",
       "       'nopd policy: chapter 42.4 - domestic violence; paragraph 12, subsection j',\n",
       "       'nopd policy: chapter 42.4 - domestic violence, paragraph 19 conduct risk assessment',\n",
       "       'nopd pollicy: chapter 42.4 domestic violance, paragraph 97',\n",
       "       'nopd policy: chapter 42.4 - domestic violence, paragraph 95',\n",
       "       'paragraph c: subparagraph 6 - failing to comply with instructions, oral or written, from any authoritative source to wit nopd chapter 42.4 domestic violence paragraph 82',\n",
       "       'nopd policy: chapter 42.4 - domestic violence; paragraph 91',\n",
       "       'paragraph c: subparagraph sustained 6 - failing to comply with instructions, oral or written, from any authoritative source to wit nopd chapter 42.4 domestic violence paragraph 96',\n",
       "       'nopd policy: chapter 42.4 - sustained domestic violence',\n",
       "       'nopd policy: chapter 42.4 - sustained domestic violence; paragraph 91',\n",
       "       'nopd policy: chapter 42.4 - sustained domestic violence, paragraph 96',\n",
       "       'nopd policy: chapter 42.4 - sustained domestic violence; paragraph 96',\n",
       "       'paragraph c: subparagraph negotiated 6 - failing to comply with settlement instructions, oral or written, from any authoritative source 42.4 domestic violance, para (82)',\n",
       "       'nopd policy: chapter 42.4 - domestic violence; paragraph 18: interview parties and witnesses',\n",
       "       'nopd policy: chapter 42.4 - sustained domestic violence; paragraph 82: reports',\n",
       "       'nopd policy: chapter 42.4 - exonerated domestic violence; paragraph 82: reports',\n",
       "       'paragraph c: subparagraph sustained 6 - failing to comply with instructions, oral or written, from any authoritative source to wit nopd chapter 42.4 domestic violence reports paragraph 82',\n",
       "       'paragraph c: subparagraph sustained 6 - failing to comply with instructions, oral or written, from any authoritative source to wit nopd chapter 42.4 domestic violence paragraph 18',\n",
       "       'nopd policy: chapter 42.4 - domestic violence; paragraph 24 strangulation',\n",
       "       'paragraph c: subparagraph 6 failing to comply with instructions, oral or written, from any authoritative source to wit nopd chapter 42.4 domestic violence reports paragraph 82',\n",
       "       'paragraph c: subparagraph 6 failing to comply with instructions, oral or written, from any authoritative sourceto wit nopd chapter 42.4 domestic violence paragraph 91',\n",
       "       'paragraph c: subparagraph 6 failing to comply with instructions, oral or written, from any authoritative source to wit nopd chapter 42.4 domestic violence paragraph 91',\n",
       "       'nopd policy: chapter 42.4 - domestic violence; paragraph 24: strangulation',\n",
       "       'nopd policy: chapter 42.4 - domestic violence; paragraph 17: prepare to interview the parties and witnesses',\n",
       "       'nopd policy: chapter 42.4 - domestic violence, paragraph 96',\n",
       "       'nopd chapter: policy 42.4, domestic violence arrest procedures',\n",
       "       'nopd policy: chapter 42.4 - domestic violence; paragraph 12, subsection 6',\n",
       "       'nopd policy: chapter 42.4 - domestic violence; paragraph 12, subsection 1',\n",
       "       'nopd policy: chapter 42.4 - domestic violence; paragraph 97: supervisor scene oversight',\n",
       "       'nopd policy: chapter 42.4 - domestic violence; paragraph 98: supervisor scene oversight',\n",
       "       'nopd policy: chapter 42.4 - domestic violence; investigations paragraph 12, subsection (a), (j)',\n",
       "       'nopd policy: chapter 42.4 - redirection domestic violence; paragraph 96',\n",
       "       'nopd policy: chapter 42.4 - sustained domestic violence, paragraph 82',\n",
       "       'nopd policy: chapter 42.4 - sustained domestic violence, paragraph 91',\n",
       "       'nopd policy: chapter 42.4 - cancelled domestic violence; paragraph 96',\n",
       "       'nopd chapter: policy 42.4, sustained domestic violence arrest procedures',\n",
       "       'nopd policy: chapter 42.4 - sustained domestic violence; paragraph 14',\n",
       "       'nopd policy: chapter 42.4 - sustained domestic violence; paragraph 14 (g)',\n",
       "       'nopd policy: chapter 42.4 - domestic violence; paragraph 10',\n",
       "       'paragraph c: subparagraph 6 failing to comply with instructions, oral or written, from any authoritative source to wit nopd chapter 42.4 domestic violaence paragraph 16(a)',\n",
       "       'paragraph c: subparagraph 6 failing to comply with instructions, oral or written, from any authoritative source to wit nopd chapter 42.4 domestic violence paragraph 22(b)(d)',\n",
       "       'nopd policy: chapter 42.4 - domestic violence; paragraph 98',\n",
       "       'nopd policy: chapter 42.4 - domestic violence; paragraph 86'],\n",
       "      dtype=object)"
      ]
     },
     "execution_count": 59,
     "metadata": {},
     "output_type": "execute_result"
    }
   ],
   "source": [
    "\n",
    "dv_df = dv_df[dv_df.allegation_desc.str.contains(\"(nopd policy|nopd chapter|paragraph)\")]\n",
    "\n",
    "dv_df.year.value_counts()\n",
    "\n",
    "dv_df.allegation_desc.unique()\n",
    "\n",
    "# dv_df.to_csv(\"data/output/dv_df_brady.csv\", index=False)"
   ]
  },
  {
   "cell_type": "code",
   "execution_count": 60,
   "metadata": {},
   "outputs": [],
   "source": [
    "# dv_df_criminal =  dv_df[~(dv_df.allegation_desc.str.contains(\"(nopd policy|nopd chapter|paragraph)\"))]\n",
    "\n",
    "\n",
    "# dv_df_criminal.to_csv(\"data/output/dv_df_brady_criminal.csv\", index=False)\n",
    "\n",
    "\n",
    "# dv_df_criminal.allegation_desc.unique()"
   ]
  },
  {
   "cell_type": "code",
   "execution_count": 61,
   "metadata": {},
   "outputs": [
    {
     "data": {
      "application/vnd.plotly.v1+json": {
       "config": {
        "plotlyServerURL": "https://plot.ly"
       },
       "data": [
        {
         "line": {
          "width": 2
         },
         "mode": "lines+markers",
         "name": "Count",
         "type": "scatter",
         "x": [
          2016,
          2017,
          2018,
          2019,
          2020,
          2021,
          2022,
          2023
         ],
         "y": [
          47,
          81,
          36,
          4,
          11,
          5,
          3,
          30
         ]
        }
       ],
       "layout": {
        "annotations": [
         {
          "align": "center",
          "bgcolor": "rgba(255, 255, 255, 0.8)",
          "bordercolor": "black",
          "borderpad": 4,
          "borderwidth": 1,
          "font": {
           "color": "black",
           "size": 12
          },
          "showarrow": false,
          "text": "<b>2016</b><br>Count: 47<br>Change: +nan%",
          "x": 2016,
          "xanchor": "center",
          "y": 47,
          "yanchor": "top",
          "yshift": -20
         },
         {
          "align": "center",
          "bgcolor": "rgba(255, 255, 255, 0.8)",
          "bordercolor": "black",
          "borderpad": 4,
          "borderwidth": 1,
          "font": {
           "color": "black",
           "size": 12
          },
          "showarrow": false,
          "text": "<b>2017</b><br>Count: 81<br>Change: +72.34%",
          "x": 2017,
          "xanchor": "center",
          "y": 81,
          "yanchor": "bottom",
          "yshift": 20
         },
         {
          "align": "center",
          "bgcolor": "rgba(255, 255, 255, 0.8)",
          "bordercolor": "black",
          "borderpad": 4,
          "borderwidth": 1,
          "font": {
           "color": "black",
           "size": 12
          },
          "showarrow": false,
          "text": "<b>2018</b><br>Count: 36<br>Change: -55.56%",
          "x": 2018,
          "xanchor": "center",
          "y": 36,
          "yanchor": "top",
          "yshift": -20
         },
         {
          "align": "center",
          "bgcolor": "rgba(255, 255, 255, 0.8)",
          "bordercolor": "black",
          "borderpad": 4,
          "borderwidth": 1,
          "font": {
           "color": "black",
           "size": 12
          },
          "showarrow": false,
          "text": "<b>2019</b><br>Count: 4<br>Change: -88.89%",
          "x": 2019,
          "xanchor": "center",
          "y": 4,
          "yanchor": "bottom",
          "yshift": 20
         },
         {
          "align": "center",
          "bgcolor": "rgba(255, 255, 255, 0.8)",
          "bordercolor": "black",
          "borderpad": 4,
          "borderwidth": 1,
          "font": {
           "color": "black",
           "size": 12
          },
          "showarrow": false,
          "text": "<b>2020</b><br>Count: 11<br>Change: +175.00%",
          "x": 2020,
          "xanchor": "center",
          "y": 11,
          "yanchor": "top",
          "yshift": -20
         },
         {
          "align": "center",
          "bgcolor": "rgba(255, 255, 255, 0.8)",
          "bordercolor": "black",
          "borderpad": 4,
          "borderwidth": 1,
          "font": {
           "color": "black",
           "size": 12
          },
          "showarrow": false,
          "text": "<b>2021</b><br>Count: 5<br>Change: -54.55%",
          "x": 2021,
          "xanchor": "center",
          "y": 5,
          "yanchor": "bottom",
          "yshift": 20
         },
         {
          "align": "center",
          "bgcolor": "rgba(255, 255, 255, 0.8)",
          "bordercolor": "black",
          "borderpad": 4,
          "borderwidth": 1,
          "font": {
           "color": "black",
           "size": 12
          },
          "showarrow": false,
          "text": "<b>2022</b><br>Count: 3<br>Change: -40.00%",
          "x": 2022,
          "xanchor": "center",
          "y": 3,
          "yanchor": "top",
          "yshift": -20
         },
         {
          "align": "center",
          "bgcolor": "rgba(255, 255, 255, 0.8)",
          "bordercolor": "black",
          "borderpad": 4,
          "borderwidth": 1,
          "font": {
           "color": "black",
           "size": 12
          },
          "showarrow": false,
          "text": "<b>2023</b><br>Count: 30<br>Change: +900.00%",
          "x": 2023,
          "xanchor": "center",
          "y": 30,
          "yanchor": "bottom",
          "yshift": 20
         }
        ],
        "template": {
         "data": {
          "bar": [
           {
            "error_x": {
             "color": "#2a3f5f"
            },
            "error_y": {
             "color": "#2a3f5f"
            },
            "marker": {
             "line": {
              "color": "#E5ECF6",
              "width": 0.5
             },
             "pattern": {
              "fillmode": "overlay",
              "size": 10,
              "solidity": 0.2
             }
            },
            "type": "bar"
           }
          ],
          "barpolar": [
           {
            "marker": {
             "line": {
              "color": "#E5ECF6",
              "width": 0.5
             },
             "pattern": {
              "fillmode": "overlay",
              "size": 10,
              "solidity": 0.2
             }
            },
            "type": "barpolar"
           }
          ],
          "carpet": [
           {
            "aaxis": {
             "endlinecolor": "#2a3f5f",
             "gridcolor": "white",
             "linecolor": "white",
             "minorgridcolor": "white",
             "startlinecolor": "#2a3f5f"
            },
            "baxis": {
             "endlinecolor": "#2a3f5f",
             "gridcolor": "white",
             "linecolor": "white",
             "minorgridcolor": "white",
             "startlinecolor": "#2a3f5f"
            },
            "type": "carpet"
           }
          ],
          "choropleth": [
           {
            "colorbar": {
             "outlinewidth": 0,
             "ticks": ""
            },
            "type": "choropleth"
           }
          ],
          "contour": [
           {
            "colorbar": {
             "outlinewidth": 0,
             "ticks": ""
            },
            "colorscale": [
             [
              0,
              "#0d0887"
             ],
             [
              0.1111111111111111,
              "#46039f"
             ],
             [
              0.2222222222222222,
              "#7201a8"
             ],
             [
              0.3333333333333333,
              "#9c179e"
             ],
             [
              0.4444444444444444,
              "#bd3786"
             ],
             [
              0.5555555555555556,
              "#d8576b"
             ],
             [
              0.6666666666666666,
              "#ed7953"
             ],
             [
              0.7777777777777778,
              "#fb9f3a"
             ],
             [
              0.8888888888888888,
              "#fdca26"
             ],
             [
              1,
              "#f0f921"
             ]
            ],
            "type": "contour"
           }
          ],
          "contourcarpet": [
           {
            "colorbar": {
             "outlinewidth": 0,
             "ticks": ""
            },
            "type": "contourcarpet"
           }
          ],
          "heatmap": [
           {
            "colorbar": {
             "outlinewidth": 0,
             "ticks": ""
            },
            "colorscale": [
             [
              0,
              "#0d0887"
             ],
             [
              0.1111111111111111,
              "#46039f"
             ],
             [
              0.2222222222222222,
              "#7201a8"
             ],
             [
              0.3333333333333333,
              "#9c179e"
             ],
             [
              0.4444444444444444,
              "#bd3786"
             ],
             [
              0.5555555555555556,
              "#d8576b"
             ],
             [
              0.6666666666666666,
              "#ed7953"
             ],
             [
              0.7777777777777778,
              "#fb9f3a"
             ],
             [
              0.8888888888888888,
              "#fdca26"
             ],
             [
              1,
              "#f0f921"
             ]
            ],
            "type": "heatmap"
           }
          ],
          "heatmapgl": [
           {
            "colorbar": {
             "outlinewidth": 0,
             "ticks": ""
            },
            "colorscale": [
             [
              0,
              "#0d0887"
             ],
             [
              0.1111111111111111,
              "#46039f"
             ],
             [
              0.2222222222222222,
              "#7201a8"
             ],
             [
              0.3333333333333333,
              "#9c179e"
             ],
             [
              0.4444444444444444,
              "#bd3786"
             ],
             [
              0.5555555555555556,
              "#d8576b"
             ],
             [
              0.6666666666666666,
              "#ed7953"
             ],
             [
              0.7777777777777778,
              "#fb9f3a"
             ],
             [
              0.8888888888888888,
              "#fdca26"
             ],
             [
              1,
              "#f0f921"
             ]
            ],
            "type": "heatmapgl"
           }
          ],
          "histogram": [
           {
            "marker": {
             "pattern": {
              "fillmode": "overlay",
              "size": 10,
              "solidity": 0.2
             }
            },
            "type": "histogram"
           }
          ],
          "histogram2d": [
           {
            "colorbar": {
             "outlinewidth": 0,
             "ticks": ""
            },
            "colorscale": [
             [
              0,
              "#0d0887"
             ],
             [
              0.1111111111111111,
              "#46039f"
             ],
             [
              0.2222222222222222,
              "#7201a8"
             ],
             [
              0.3333333333333333,
              "#9c179e"
             ],
             [
              0.4444444444444444,
              "#bd3786"
             ],
             [
              0.5555555555555556,
              "#d8576b"
             ],
             [
              0.6666666666666666,
              "#ed7953"
             ],
             [
              0.7777777777777778,
              "#fb9f3a"
             ],
             [
              0.8888888888888888,
              "#fdca26"
             ],
             [
              1,
              "#f0f921"
             ]
            ],
            "type": "histogram2d"
           }
          ],
          "histogram2dcontour": [
           {
            "colorbar": {
             "outlinewidth": 0,
             "ticks": ""
            },
            "colorscale": [
             [
              0,
              "#0d0887"
             ],
             [
              0.1111111111111111,
              "#46039f"
             ],
             [
              0.2222222222222222,
              "#7201a8"
             ],
             [
              0.3333333333333333,
              "#9c179e"
             ],
             [
              0.4444444444444444,
              "#bd3786"
             ],
             [
              0.5555555555555556,
              "#d8576b"
             ],
             [
              0.6666666666666666,
              "#ed7953"
             ],
             [
              0.7777777777777778,
              "#fb9f3a"
             ],
             [
              0.8888888888888888,
              "#fdca26"
             ],
             [
              1,
              "#f0f921"
             ]
            ],
            "type": "histogram2dcontour"
           }
          ],
          "mesh3d": [
           {
            "colorbar": {
             "outlinewidth": 0,
             "ticks": ""
            },
            "type": "mesh3d"
           }
          ],
          "parcoords": [
           {
            "line": {
             "colorbar": {
              "outlinewidth": 0,
              "ticks": ""
             }
            },
            "type": "parcoords"
           }
          ],
          "pie": [
           {
            "automargin": true,
            "type": "pie"
           }
          ],
          "scatter": [
           {
            "fillpattern": {
             "fillmode": "overlay",
             "size": 10,
             "solidity": 0.2
            },
            "type": "scatter"
           }
          ],
          "scatter3d": [
           {
            "line": {
             "colorbar": {
              "outlinewidth": 0,
              "ticks": ""
             }
            },
            "marker": {
             "colorbar": {
              "outlinewidth": 0,
              "ticks": ""
             }
            },
            "type": "scatter3d"
           }
          ],
          "scattercarpet": [
           {
            "marker": {
             "colorbar": {
              "outlinewidth": 0,
              "ticks": ""
             }
            },
            "type": "scattercarpet"
           }
          ],
          "scattergeo": [
           {
            "marker": {
             "colorbar": {
              "outlinewidth": 0,
              "ticks": ""
             }
            },
            "type": "scattergeo"
           }
          ],
          "scattergl": [
           {
            "marker": {
             "colorbar": {
              "outlinewidth": 0,
              "ticks": ""
             }
            },
            "type": "scattergl"
           }
          ],
          "scattermapbox": [
           {
            "marker": {
             "colorbar": {
              "outlinewidth": 0,
              "ticks": ""
             }
            },
            "type": "scattermapbox"
           }
          ],
          "scatterpolar": [
           {
            "marker": {
             "colorbar": {
              "outlinewidth": 0,
              "ticks": ""
             }
            },
            "type": "scatterpolar"
           }
          ],
          "scatterpolargl": [
           {
            "marker": {
             "colorbar": {
              "outlinewidth": 0,
              "ticks": ""
             }
            },
            "type": "scatterpolargl"
           }
          ],
          "scatterternary": [
           {
            "marker": {
             "colorbar": {
              "outlinewidth": 0,
              "ticks": ""
             }
            },
            "type": "scatterternary"
           }
          ],
          "surface": [
           {
            "colorbar": {
             "outlinewidth": 0,
             "ticks": ""
            },
            "colorscale": [
             [
              0,
              "#0d0887"
             ],
             [
              0.1111111111111111,
              "#46039f"
             ],
             [
              0.2222222222222222,
              "#7201a8"
             ],
             [
              0.3333333333333333,
              "#9c179e"
             ],
             [
              0.4444444444444444,
              "#bd3786"
             ],
             [
              0.5555555555555556,
              "#d8576b"
             ],
             [
              0.6666666666666666,
              "#ed7953"
             ],
             [
              0.7777777777777778,
              "#fb9f3a"
             ],
             [
              0.8888888888888888,
              "#fdca26"
             ],
             [
              1,
              "#f0f921"
             ]
            ],
            "type": "surface"
           }
          ],
          "table": [
           {
            "cells": {
             "fill": {
              "color": "#EBF0F8"
             },
             "line": {
              "color": "white"
             }
            },
            "header": {
             "fill": {
              "color": "#C8D4E3"
             },
             "line": {
              "color": "white"
             }
            },
            "type": "table"
           }
          ]
         },
         "layout": {
          "annotationdefaults": {
           "arrowcolor": "#2a3f5f",
           "arrowhead": 0,
           "arrowwidth": 1
          },
          "autotypenumbers": "strict",
          "coloraxis": {
           "colorbar": {
            "outlinewidth": 0,
            "ticks": ""
           }
          },
          "colorscale": {
           "diverging": [
            [
             0,
             "#8e0152"
            ],
            [
             0.1,
             "#c51b7d"
            ],
            [
             0.2,
             "#de77ae"
            ],
            [
             0.3,
             "#f1b6da"
            ],
            [
             0.4,
             "#fde0ef"
            ],
            [
             0.5,
             "#f7f7f7"
            ],
            [
             0.6,
             "#e6f5d0"
            ],
            [
             0.7,
             "#b8e186"
            ],
            [
             0.8,
             "#7fbc41"
            ],
            [
             0.9,
             "#4d9221"
            ],
            [
             1,
             "#276419"
            ]
           ],
           "sequential": [
            [
             0,
             "#0d0887"
            ],
            [
             0.1111111111111111,
             "#46039f"
            ],
            [
             0.2222222222222222,
             "#7201a8"
            ],
            [
             0.3333333333333333,
             "#9c179e"
            ],
            [
             0.4444444444444444,
             "#bd3786"
            ],
            [
             0.5555555555555556,
             "#d8576b"
            ],
            [
             0.6666666666666666,
             "#ed7953"
            ],
            [
             0.7777777777777778,
             "#fb9f3a"
            ],
            [
             0.8888888888888888,
             "#fdca26"
            ],
            [
             1,
             "#f0f921"
            ]
           ],
           "sequentialminus": [
            [
             0,
             "#0d0887"
            ],
            [
             0.1111111111111111,
             "#46039f"
            ],
            [
             0.2222222222222222,
             "#7201a8"
            ],
            [
             0.3333333333333333,
             "#9c179e"
            ],
            [
             0.4444444444444444,
             "#bd3786"
            ],
            [
             0.5555555555555556,
             "#d8576b"
            ],
            [
             0.6666666666666666,
             "#ed7953"
            ],
            [
             0.7777777777777778,
             "#fb9f3a"
            ],
            [
             0.8888888888888888,
             "#fdca26"
            ],
            [
             1,
             "#f0f921"
            ]
           ]
          },
          "colorway": [
           "#636efa",
           "#EF553B",
           "#00cc96",
           "#ab63fa",
           "#FFA15A",
           "#19d3f3",
           "#FF6692",
           "#B6E880",
           "#FF97FF",
           "#FECB52"
          ],
          "font": {
           "color": "#2a3f5f"
          },
          "geo": {
           "bgcolor": "white",
           "lakecolor": "white",
           "landcolor": "#E5ECF6",
           "showlakes": true,
           "showland": true,
           "subunitcolor": "white"
          },
          "hoverlabel": {
           "align": "left"
          },
          "hovermode": "closest",
          "mapbox": {
           "style": "light"
          },
          "paper_bgcolor": "white",
          "plot_bgcolor": "#E5ECF6",
          "polar": {
           "angularaxis": {
            "gridcolor": "white",
            "linecolor": "white",
            "ticks": ""
           },
           "bgcolor": "#E5ECF6",
           "radialaxis": {
            "gridcolor": "white",
            "linecolor": "white",
            "ticks": ""
           }
          },
          "scene": {
           "xaxis": {
            "backgroundcolor": "#E5ECF6",
            "gridcolor": "white",
            "gridwidth": 2,
            "linecolor": "white",
            "showbackground": true,
            "ticks": "",
            "zerolinecolor": "white"
           },
           "yaxis": {
            "backgroundcolor": "#E5ECF6",
            "gridcolor": "white",
            "gridwidth": 2,
            "linecolor": "white",
            "showbackground": true,
            "ticks": "",
            "zerolinecolor": "white"
           },
           "zaxis": {
            "backgroundcolor": "#E5ECF6",
            "gridcolor": "white",
            "gridwidth": 2,
            "linecolor": "white",
            "showbackground": true,
            "ticks": "",
            "zerolinecolor": "white"
           }
          },
          "shapedefaults": {
           "line": {
            "color": "#2a3f5f"
           }
          },
          "ternary": {
           "aaxis": {
            "gridcolor": "white",
            "linecolor": "white",
            "ticks": ""
           },
           "baxis": {
            "gridcolor": "white",
            "linecolor": "white",
            "ticks": ""
           },
           "bgcolor": "#E5ECF6",
           "caxis": {
            "gridcolor": "white",
            "linecolor": "white",
            "ticks": ""
           }
          },
          "title": {
           "x": 0.05
          },
          "xaxis": {
           "automargin": true,
           "gridcolor": "white",
           "linecolor": "white",
           "ticks": "",
           "title": {
            "standoff": 15
           },
           "zerolinecolor": "white",
           "zerolinewidth": 2
          },
          "yaxis": {
           "automargin": true,
           "gridcolor": "white",
           "linecolor": "white",
           "ticks": "",
           "title": {
            "standoff": 15
           },
           "zerolinecolor": "white",
           "zerolinewidth": 2
          }
         }
        },
        "title": {
         "text": "Number of Domestic Allegations per Year"
        },
        "xaxis": {
         "title": {
          "text": "Year"
         }
        },
        "yaxis": {
         "title": {
          "text": "Number of Allegations"
         }
        }
       }
      }
     },
     "metadata": {},
     "output_type": "display_data"
    }
   ],
   "source": [
    "\n",
    "year_counts = dv_df.year.value_counts().sort_index()\n",
    "\n",
    "year_pct_change = year_counts.pct_change() * 100\n",
    "\n",
    "trace = go.Scatter(\n",
    "    x=year_counts.index,\n",
    "    y=year_counts.values,\n",
    "    mode='lines+markers',\n",
    "    name='Count',\n",
    "    line=dict(width=2)\n",
    ")\n",
    "\n",
    "layout = go.Layout(\n",
    "    title='Number of Domestic Allegations per Year',\n",
    "    xaxis=dict(title='Year'),\n",
    "    yaxis=dict(title='Number of Allegations'),\n",
    "    annotations=[\n",
    "        dict(\n",
    "            x=year,\n",
    "            y=count,\n",
    "            text=f\"<b>{year}</b><br>Count: {count:,}<br>Change: {pct:+.2f}%\",\n",
    "            align='center',\n",
    "            showarrow=False,\n",
    "            font=dict(size=12, color='black'),\n",
    "            bgcolor='rgba(255, 255, 255, 0.8)',\n",
    "            bordercolor='black',\n",
    "            borderwidth=1,\n",
    "            borderpad=4,\n",
    "            xanchor='center',\n",
    "            yanchor='top' if idx % 2 == 0 else 'bottom',\n",
    "            yshift=-20 if idx % 2 == 0 else 20\n",
    "        )\n",
    "        for idx, (year, count, pct) in enumerate(zip(year_counts.index, year_counts.values, year_pct_change.values))\n",
    "    ]\n",
    ")\n",
    "\n",
    "fig = go.Figure(data=[trace], layout=layout)\n",
    "\n",
    "fig.show()"
   ]
  },
  {
   "cell_type": "code",
   "execution_count": 62,
   "metadata": {},
   "outputs": [],
   "source": [
    "# import pandas as pd\n",
    "# import networkx as nx\n",
    "# import plotly.graph_objects as go\n",
    "# import plotly.io as pio\n",
    "\n",
    "# dv_df_allegations = dv_df[[\"allegation_desc\", \"allegation\"]]\n",
    "# dv_df_allegations.allegation.value_counts()\n",
    "\n",
    "# dv_df_allegations.loc[:, \"allegation_desc\"] = dv_df_allegations.allegation_desc.str.replace(r\"^nopd policy:? \", \"\", regex=True)\n",
    "\n",
    "# # Assuming dv_df_allegations is already defined\n",
    "# top_10_desc = dv_df_allegations.groupby('allegation')['allegation_desc'].apply(lambda x: x.value_counts().nlargest(10)).reset_index(name='count')\n",
    "# # Rename the column 'level_1' to 'allegation_desc' for consistency\n",
    "# top_10_desc.rename(columns={'level_1': 'allegation_desc'}, inplace=True)\n",
    "\n",
    "# # Iterate over unique high-level classifications\n",
    "# for allegation in top_10_desc['allegation'].unique():\n",
    "#     # Create a subgraph for each high-level classification\n",
    "#     subgraph = nx.DiGraph()\n",
    "#     top_desc = top_10_desc[top_10_desc['allegation'] == allegation]\n",
    "    \n",
    "#     # Add nodes and edges\n",
    "#     for index, row in top_desc.iterrows():\n",
    "#         subgraph.add_node(row['allegation'], color='green', size=20)\n",
    "#         subgraph.add_node(row['allegation_desc'], color='purple', size=10)\n",
    "#         subgraph.add_edge(row['allegation'], row['allegation_desc'])\n",
    "    \n",
    "#     # Create positions for nodes with a smaller k value\n",
    "#     pos = nx.spring_layout(subgraph, k=0.1, iterations=50)\n",
    "    \n",
    "#     # Extract node attributes for Plotly\n",
    "#     edge_x = []\n",
    "#     edge_y = []\n",
    "#     for edge in subgraph.edges():\n",
    "#         x0, y0 = pos[edge[0]]\n",
    "#         x1, y1 = pos[edge[1]]\n",
    "#         edge_x.append(x0)\n",
    "#         edge_x.append(x1)\n",
    "#         edge_x.append(None)\n",
    "#         edge_y.append(y0)\n",
    "#         edge_y.append(y1)\n",
    "#         edge_y.append(None)\n",
    "    \n",
    "#     edge_trace = go.Scatter(\n",
    "#         x=edge_x, y=edge_y,\n",
    "#         line=dict(width=0.5, color='#888'),\n",
    "#         hoverinfo='none',\n",
    "#         mode='lines')\n",
    "    \n",
    "#     node_x = []\n",
    "#     node_y = []\n",
    "#     node_text = []\n",
    "#     node_color = []\n",
    "#     node_size = []\n",
    "#     for node in subgraph.nodes():\n",
    "#         x, y = pos[node]\n",
    "#         node_x.append(x)\n",
    "#         node_y.append(y)\n",
    "#         node_text.append(node)\n",
    "#         node_color.append(subgraph.nodes[node]['color'])\n",
    "#         node_size.append(subgraph.nodes[node]['size'])\n",
    "    \n",
    "#     node_trace = go.Scatter(\n",
    "#         x=node_x, y=node_y,\n",
    "#         mode='markers+text',\n",
    "#         text=node_text,\n",
    "#         textposition=\"top center\",\n",
    "#         textfont=dict(size=10),  # Increase the label size\n",
    "#         hoverinfo='text',\n",
    "#         marker=dict(\n",
    "#             showscale=False,\n",
    "#             color=node_color,\n",
    "#             size=node_size,\n",
    "#             line_width=2))\n",
    "    \n",
    "#     fig = go.Figure(data=[edge_trace, node_trace], layout=go.Layout(\n",
    "#         title=f'Allegation Network for: {allegation}',\n",
    "#         showlegend=False,\n",
    "#         hovermode='closest',\n",
    "#         margin=dict(b=20, l=20, r=20, t=40),  # Reduce margins for more space\n",
    "#         width=800,  # Increase width\n",
    "#         height=800,  # Increase height\n",
    "#         xaxis=dict(showgrid=False, zeroline=False),\n",
    "#         yaxis=dict(showgrid=False, zeroline=False)))\n",
    "    \n",
    "#     # Save the figure as an HTML file\n",
    "#     fig.write_html(f'allegation_network_{allegation.replace(\" \", \"_\")}.html')"
   ]
  }
 ],
 "metadata": {
  "kernelspec": {
   "display_name": "Python 3",
   "language": "python",
   "name": "python3"
  },
  "language_info": {
   "codemirror_mode": {
    "name": "ipython",
    "version": 3
   },
   "file_extension": ".py",
   "mimetype": "text/x-python",
   "name": "python",
   "nbconvert_exporter": "python",
   "pygments_lexer": "ipython3",
   "version": "3.11.7"
  }
 },
 "nbformat": 4,
 "nbformat_minor": 2
}
