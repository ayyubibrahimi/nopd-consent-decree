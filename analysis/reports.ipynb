{
 "cells": [
  {
   "cell_type": "code",
   "execution_count": 19,
   "metadata": {},
   "outputs": [],
   "source": [
    "import pandas as pd"
   ]
  },
  {
   "cell_type": "code",
   "execution_count": 20,
   "metadata": {},
   "outputs": [],
   "source": [
    "dfa = pd.read_csv(\"../data/input/investigative_reports.csv\")\n",
    "\n",
    "dfa.loc[:, \"tracking_id\"] = dfa.tracking_id.str.lower().str.strip().str.replace(r\"\\n\", \"\", regex=True).str.replace(r\"\\s+\", \"\", regex=True)\n",
    "\n",
    "dfa\n",
    "\n",
    "dfb = pd.read_csv(\"../data/output/coded_data.csv\")\n",
    "\n",
    "dfb.loc[:, \"tracking_id\"] = dfb.tracking_id.str.lower().str.strip().str.replace(r\"\\n\", \"\", regex=True).str.replace(r\"\\s+\", \"\", regex=True)\n",
    "\n",
    "\n",
    "df = pd.merge(dfa, dfb, on=\"tracking_id\")"
   ]
  }
 ],
 "metadata": {
  "kernelspec": {
   "display_name": "Python 3",
   "language": "python",
   "name": "python3"
  },
  "language_info": {
   "codemirror_mode": {
    "name": "ipython",
    "version": 3
   },
   "file_extension": ".py",
   "mimetype": "text/x-python",
   "name": "python",
   "nbconvert_exporter": "python",
   "pygments_lexer": "ipython3",
   "version": "3.11.7"
  }
 },
 "nbformat": 4,
 "nbformat_minor": 2
}
