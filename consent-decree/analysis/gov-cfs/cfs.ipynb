{
 "cells": [
  {
   "cell_type": "code",
   "execution_count": 5,
   "metadata": {},
   "outputs": [],
   "source": [
    "import pandas as pd"
   ]
  },
  {
   "cell_type": "code",
   "execution_count": 6,
   "metadata": {},
   "outputs": [],
   "source": [
    "# Load the data\n",
    "# dfa = pd.read_csv(\"data/input/Calls_for_Service_2017.csv\")\n",
    "# dfb = pd.read_csv(\"data/input/Calls_for_Service_2018.csv\")\n",
    "# dfc = pd.read_csv(\"data/input/Calls_for_Service_2019.csv\")\n",
    "# dfd = pd.read_csv(\"data/input/Calls_for_Service_2020.csv\")\n",
    "# dfe = pd.read_csv(\"data/input/Calls_for_Service_2021.csv\")\n",
    "dff = pd.read_csv(\"data/input/Calls_for_Service_2022.csv\")\n",
    "# dfg = pd.read_csv(\"data/input/Calls_for_Service_2023.csv\")\n",
    "# dfh = pd.read_csv(\"data/input/Calls_for_Service_2016.csv\")\n",
    "\n",
    "# # Function to filter and clean data\n",
    "# def filter_and_clean(df, year):\n",
    "#     df = df[(df.TypeText.str.lower().str.strip().str.contains(\"domestic\")) & \n",
    "#             (df.InitialTypeText.str.lower().str.strip().str.contains(\"domestic\"))]\n",
    "#     df = df.drop_duplicates(subset=[\"NOPD_Item\"])\n",
    "#     df[\"year\"] = year\n",
    "#     return df\n",
    "\n",
    "# # Apply the function to each dataframe\n",
    "# dfa = filter_and_clean(dfa, \"2017\")\n",
    "# dfb = filter_and_clean(dfb, \"2018\")\n",
    "# dfc = filter_and_clean(dfc, \"2019\")\n",
    "# dfd = filter_and_clean(dfd, \"2020\")\n",
    "# dfe = filter_and_clean(dfe, \"2021\")\n",
    "# dff = filter_and_clean(dff, \"2022\")\n",
    "# dfg = filter_and_clean(dfg, \"2023\")\n",
    "# dfh = filter_and_clean(dfh, \"2016\")\n",
    "\n",
    "# dfg\n",
    "\n"
   ]
  },
  {
   "cell_type": "code",
   "execution_count": 7,
   "metadata": {},
   "outputs": [
    {
     "data": {
      "text/plain": [
       "array(['REPORT TO FOLLOW', 'GONE ON ARRIVAL', 'Necessary Action Taken',\n",
       "       'DUPLICATE', 'VOID', nan, 'UNFOUNDED', 'Test Incident',\n",
       "       'REFERRED TO EXTERNAL AGENCY', 'RTA Related Incident Disposition',\n",
       "       'Sobering Center Transport'], dtype=object)"
      ]
     },
     "execution_count": 7,
     "metadata": {},
     "output_type": "execute_result"
    }
   ],
   "source": [
    "dff.DispositionText.unique()"
   ]
  },
  {
   "cell_type": "code",
   "execution_count": 8,
   "metadata": {},
   "outputs": [],
   "source": [
    "# # Combine all dataframes into one\n",
    "# df_all = pd.concat([dfa, dfb, dfc, dfd, dfe, dff, dfg, dfh])\n",
    "\n",
    "# df_all.to_csv(\"data/output/calls_for_service_2016_2023.csv\", index=False)"
   ]
  }
 ],
 "metadata": {
  "kernelspec": {
   "display_name": "Python 3",
   "language": "python",
   "name": "python3"
  },
  "language_info": {
   "codemirror_mode": {
    "name": "ipython",
    "version": 3
   },
   "file_extension": ".py",
   "mimetype": "text/x-python",
   "name": "python",
   "nbconvert_exporter": "python",
   "pygments_lexer": "ipython3",
   "version": "3.11.7"
  }
 },
 "nbformat": 4,
 "nbformat_minor": 2
}
