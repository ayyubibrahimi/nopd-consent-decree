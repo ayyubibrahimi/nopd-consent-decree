{
 "cells": [
  {
   "cell_type": "code",
   "execution_count": 6,
   "metadata": {},
   "outputs": [
    {
     "name": "stdout",
     "output_type": "stream",
     "text": [
      "Combined CSV file saved as: ../data/output/combined_output.csv\n"
     ]
    }
   ],
   "source": [
    "import os\n",
    "import pandas as pd\n",
    "\n",
    "directory = \"../data/output/\"\n",
    "\n",
    "\n",
    "csv_files = [file for file in os.listdir(directory) if file.endswith(\".csv\")]\n",
    "\n",
    "dataframes = []\n",
    "\n",
    "for file in csv_files:\n",
    "    file_path = os.path.join(directory, file)\n",
    "    df = pd.read_csv(file_path)\n",
    "\n",
    "    def extract_year(df):\n",
    "        year = df.tracking_id.str.extract(r\"^(\\w{4})\")\n",
    "        df.loc[:, \"year\"] = year[0]\n",
    "        return df\n",
    "    \n",
    "    def standardize_summary(df):\n",
    "        df.loc[:, \"gist\"] = df.gist.str.lower().str.strip()\n",
    "        return df\n",
    "\n",
    "    df = df.pipe(extract_year).pipe(standardize_summary)\n",
    "    dataframes.append(df)\n",
    "\n",
    "combined_df = pd.concat(dataframes, ignore_index=True)\n",
    "\n",
    "output_file = os.path.join(directory, \"combined_output.csv\")\n",
    "combined_df.to_csv(output_file, index=False)\n",
    "\n",
    "print(f\"Combined CSV file saved as: {output_file}\")"
   ]
  },
  {
   "cell_type": "code",
   "execution_count": 7,
   "metadata": {},
   "outputs": [
    {
     "data": {
      "text/plain": [
       "year\n",
       "2021.0    857\n",
       "2016.0    838\n",
       "2015.0    814\n",
       "2023.0    733\n",
       "2019.0    660\n",
       "2017.0    650\n",
       "2022.0    649\n",
       "2020.0    581\n",
       "2018.0    570\n",
       "2014.0    430\n",
       "2013.0      2\n",
       "223.0       1\n",
       "1891.0      1\n",
       "1227.0      1\n",
       "Name: count, dtype: int64"
      ]
     },
     "execution_count": 7,
     "metadata": {},
     "output_type": "execute_result"
    }
   ],
   "source": [
    "import pandas as pd\n",
    "\n",
    "df = pd.read_csv(\"../data/output/combined_output.csv\")\n",
    "\n",
    "df.year.value_counts()"
   ]
  }
 ],
 "metadata": {
  "kernelspec": {
   "display_name": "Python 3",
   "language": "python",
   "name": "python3"
  },
  "language_info": {
   "codemirror_mode": {
    "name": "ipython",
    "version": 3
   },
   "file_extension": ".py",
   "mimetype": "text/x-python",
   "name": "python",
   "nbconvert_exporter": "python",
   "pygments_lexer": "ipython3",
   "version": "3.11.7"
  }
 },
 "nbformat": 4,
 "nbformat_minor": 2
}
